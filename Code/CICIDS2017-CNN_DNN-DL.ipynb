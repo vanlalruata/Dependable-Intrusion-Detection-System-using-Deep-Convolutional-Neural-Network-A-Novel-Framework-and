{
 "cells": [
  {
   "cell_type": "code",
   "execution_count": 1,
   "id": "dec98088",
   "metadata": {},
   "outputs": [],
   "source": [
    "import pandas as pd\n",
    "import numpy as np\n",
    "import os\n",
    "import tensorflow as tf\n",
    "from tensorflow import keras\n",
    "import glob\n",
    "import random"
   ]
  },
  {
   "cell_type": "code",
   "execution_count": 2,
   "id": "48fc6922",
   "metadata": {},
   "outputs": [
    {
     "name": "stdout",
     "output_type": "stream",
     "text": [
      "PhysicalDevice(name='/physical_device:GPU:0', device_type='GPU') \n",
      "\n"
     ]
    }
   ],
   "source": [
    "gpus = tf.config.experimental.list_physical_devices('GPU')\n",
    "if gpus:\n",
    "  for gpu in gpus:\n",
    "    tf.config.experimental.set_memory_growth(gpu, True)\n",
    "    print(gpu, \"\\n\")\n",
    "else:\n",
    "  print(\"No GPU device found\")"
   ]
  },
  {
   "cell_type": "code",
   "execution_count": 3,
   "id": "15a0a158",
   "metadata": {},
   "outputs": [
    {
     "name": "stdout",
     "output_type": "stream",
     "text": [
      "Sat Jun  3 16:30:10 2023       \n",
      "+---------------------------------------------------------------------------------------+\n",
      "| NVIDIA-SMI 535.98                 Driver Version: 535.98       CUDA Version: 12.2     |\n",
      "|-----------------------------------------+----------------------+----------------------+\n",
      "| GPU  Name                     TCC/WDDM  | Bus-Id        Disp.A | Volatile Uncorr. ECC |\n",
      "| Fan  Temp   Perf          Pwr:Usage/Cap |         Memory-Usage | GPU-Util  Compute M. |\n",
      "|                                         |                      |               MIG M. |\n",
      "|=========================================+======================+======================|\n",
      "|   0  NVIDIA GeForce RTX 3060 Ti   WDDM  | 00000000:01:00.0  On |                  N/A |\n",
      "| 35%   51C    P8              13W / 200W |   3798MiB /  8192MiB |      8%      Default |\n",
      "|                                         |                      |                  N/A |\n",
      "+-----------------------------------------+----------------------+----------------------+\n",
      "                                                                                         \n",
      "+---------------------------------------------------------------------------------------+\n",
      "| Processes:                                                                            |\n",
      "|  GPU   GI   CI        PID   Type   Process name                            GPU Memory |\n",
      "|        ID   ID                                                             Usage      |\n",
      "|=======================================================================================|\n",
      "|    0   N/A  N/A      1740    C+G   C:\\Windows\\explorer.exe                   N/A      |\n",
      "|    0   N/A  N/A      2856    C+G   ...2txyewy\\StartMenuExperienceHost.exe    N/A      |\n",
      "|    0   N/A  N/A      4896      C   C:\\Users\\Maruata\\anaconda3\\python.exe     N/A      |\n",
      "|    0   N/A  N/A      6240    C+G   ...0_x64__8wekyb3d8bbwe\\HxAccounts.exe    N/A      |\n",
      "|    0   N/A  N/A      7748    C+G   ...siveControlPanel\\SystemSettings.exe    N/A      |\n",
      "|    0   N/A  N/A     10004    C+G   ...oogle\\Chrome\\Application\\chrome.exe    N/A      |\n",
      "|    0   N/A  N/A     10832    C+G   ...2.0_x64__cv1g1gvanyjgm\\WhatsApp.exe    N/A      |\n",
      "|    0   N/A  N/A     13400    C+G   ...ejd91yc\\AdobeNotificationClient.exe    N/A      |\n",
      "|    0   N/A  N/A     15172    C+G   ...soft Office\\root\\Office16\\EXCEL.EXE    N/A      |\n",
      "|    0   N/A  N/A     19796    C+G   ...on\\113.0.1774.57\\msedgewebview2.exe    N/A      |\n",
      "|    0   N/A  N/A     20128    C+G   ...CBS_cw5n1h2txyewy\\TextInputHost.exe    N/A      |\n",
      "|    0   N/A  N/A     21336    C+G   ....0_x64__8wekyb3d8bbwe\\HxOutlook.exe    N/A      |\n",
      "|    0   N/A  N/A     21412    C+G   ...GeForce Experience\\NVIDIA Share.exe    N/A      |\n",
      "|    0   N/A  N/A     22120    C+G   ...on\\113.0.1774.57\\msedgewebview2.exe    N/A      |\n",
      "|    0   N/A  N/A     23028    C+G   ...nt.CBS_cw5n1h2txyewy\\SearchHost.exe    N/A      |\n",
      "|    0   N/A  N/A     24032    C+G   ...8bbwe\\SnippingTool\\SnippingTool.exe    N/A      |\n",
      "|    0   N/A  N/A     24972    C+G   ...m Files\\Mozilla Firefox\\firefox.exe    N/A      |\n",
      "|    0   N/A  N/A     24984    C+G   ...aam7r\\AcrobatNotificationClient.exe    N/A      |\n",
      "+---------------------------------------------------------------------------------------+\n"
     ]
    }
   ],
   "source": [
    "!nvidia-smi"
   ]
  },
  {
   "cell_type": "code",
   "execution_count": 4,
   "id": "6f6fed5e",
   "metadata": {},
   "outputs": [
    {
     "name": "stdout",
     "output_type": "stream",
     "text": [
      "Read Completed for  H:\\\\Datasets\\\\CIC-IDS2017\\\\TrafficLabelling\\Friday-WorkingHours-Afternoon-DDos.pcap_ISCX.csv\n",
      "Read Completed for  H:\\\\Datasets\\\\CIC-IDS2017\\\\TrafficLabelling\\Friday-WorkingHours-Afternoon-PortScan.pcap_ISCX.csv\n",
      "Read Completed for  H:\\\\Datasets\\\\CIC-IDS2017\\\\TrafficLabelling\\Friday-WorkingHours-Morning.pcap_ISCX.csv\n",
      "Read Completed for  H:\\\\Datasets\\\\CIC-IDS2017\\\\TrafficLabelling\\Monday-WorkingHours.pcap_ISCX.csv\n",
      "Read Completed for  H:\\\\Datasets\\\\CIC-IDS2017\\\\TrafficLabelling\\Thursday-WorkingHours-Afternoon-Infilteration.pcap_ISCX.csv\n",
      "Read Completed for  H:\\\\Datasets\\\\CIC-IDS2017\\\\TrafficLabelling\\Thursday-WorkingHours-Morning-WebAttacks.pcap_ISCX.csv\n",
      "Read Completed for  H:\\\\Datasets\\\\CIC-IDS2017\\\\TrafficLabelling\\Tuesday-WorkingHours.pcap_ISCX.csv\n",
      "Read Completed for  H:\\\\Datasets\\\\CIC-IDS2017\\\\TrafficLabelling\\Wednesday-workingHours.pcap_ISCX.csv\n",
      "Finished Reading All Files.\n"
     ]
    }
   ],
   "source": [
    "path = r'H:\\\\Datasets\\\\CIC-IDS2017\\\\TrafficLabelling\\\\' # use your path\n",
    "all_files = glob.glob(path + \"/*.csv\")\n",
    "\n",
    "li = []\n",
    "\n",
    "p = 0.40  # 40% of the data\n",
    "\n",
    "for filename in all_files:\n",
    "    df = pd.read_csv(filename, encoding='cp1252', index_col=None, low_memory=False)\n",
    "    #df = pd.read_csv(filename, encoding='cp1252', index_col=None, skiprows=lambda i: i>0 and random.random() > p, \n",
    "                     #low_memory=False)\n",
    "    li.append(df)\n",
    "    print(\"Read Completed for \", filename)\n",
    "\n",
    "df = pd.concat(li, axis=0, ignore_index=True)\n",
    "print(\"Finished Reading All Files.\")"
   ]
  },
  {
   "cell_type": "code",
   "execution_count": 5,
   "id": "9a47d859",
   "metadata": {},
   "outputs": [],
   "source": [
    "from unidecode import unidecode\n",
    "#df[\" Label\"] = df[\" Label\"].apply(unidecode)\n",
    "#df[\" Label\"].apply(unidecode)"
   ]
  },
  {
   "cell_type": "code",
   "execution_count": 6,
   "id": "4c15ed89",
   "metadata": {},
   "outputs": [
    {
     "name": "stdout",
     "output_type": "stream",
     "text": [
      "<class 'pandas.core.frame.DataFrame'>\n",
      "RangeIndex: 3119345 entries, 0 to 3119344\n",
      "Data columns (total 85 columns):\n",
      " #   Column                        Dtype  \n",
      "---  ------                        -----  \n",
      " 0   Flow ID                       object \n",
      " 1    Source IP                    object \n",
      " 2    Source Port                  float64\n",
      " 3    Destination IP               object \n",
      " 4    Destination Port             float64\n",
      " 5    Protocol                     float64\n",
      " 6    Timestamp                    object \n",
      " 7    Flow Duration                float64\n",
      " 8    Total Fwd Packets            float64\n",
      " 9    Total Backward Packets       float64\n",
      " 10  Total Length of Fwd Packets   float64\n",
      " 11   Total Length of Bwd Packets  float64\n",
      " 12   Fwd Packet Length Max        float64\n",
      " 13   Fwd Packet Length Min        float64\n",
      " 14   Fwd Packet Length Mean       float64\n",
      " 15   Fwd Packet Length Std        float64\n",
      " 16  Bwd Packet Length Max         float64\n",
      " 17   Bwd Packet Length Min        float64\n",
      " 18   Bwd Packet Length Mean       float64\n",
      " 19   Bwd Packet Length Std        float64\n",
      " 20  Flow Bytes/s                  float64\n",
      " 21   Flow Packets/s               float64\n",
      " 22   Flow IAT Mean                float64\n",
      " 23   Flow IAT Std                 float64\n",
      " 24   Flow IAT Max                 float64\n",
      " 25   Flow IAT Min                 float64\n",
      " 26  Fwd IAT Total                 float64\n",
      " 27   Fwd IAT Mean                 float64\n",
      " 28   Fwd IAT Std                  float64\n",
      " 29   Fwd IAT Max                  float64\n",
      " 30   Fwd IAT Min                  float64\n",
      " 31  Bwd IAT Total                 float64\n",
      " 32   Bwd IAT Mean                 float64\n",
      " 33   Bwd IAT Std                  float64\n",
      " 34   Bwd IAT Max                  float64\n",
      " 35   Bwd IAT Min                  float64\n",
      " 36  Fwd PSH Flags                 float64\n",
      " 37   Bwd PSH Flags                float64\n",
      " 38   Fwd URG Flags                float64\n",
      " 39   Bwd URG Flags                float64\n",
      " 40   Fwd Header Length            float64\n",
      " 41   Bwd Header Length            float64\n",
      " 42  Fwd Packets/s                 float64\n",
      " 43   Bwd Packets/s                float64\n",
      " 44   Min Packet Length            float64\n",
      " 45   Max Packet Length            float64\n",
      " 46   Packet Length Mean           float64\n",
      " 47   Packet Length Std            float64\n",
      " 48   Packet Length Variance       float64\n",
      " 49  FIN Flag Count                float64\n",
      " 50   SYN Flag Count               float64\n",
      " 51   RST Flag Count               float64\n",
      " 52   PSH Flag Count               float64\n",
      " 53   ACK Flag Count               float64\n",
      " 54   URG Flag Count               float64\n",
      " 55   CWE Flag Count               float64\n",
      " 56   ECE Flag Count               float64\n",
      " 57   Down/Up Ratio                float64\n",
      " 58   Average Packet Size          float64\n",
      " 59   Avg Fwd Segment Size         float64\n",
      " 60   Avg Bwd Segment Size         float64\n",
      " 61   Fwd Header Length.1          float64\n",
      " 62  Fwd Avg Bytes/Bulk            float64\n",
      " 63   Fwd Avg Packets/Bulk         float64\n",
      " 64   Fwd Avg Bulk Rate            float64\n",
      " 65   Bwd Avg Bytes/Bulk           float64\n",
      " 66   Bwd Avg Packets/Bulk         float64\n",
      " 67  Bwd Avg Bulk Rate             float64\n",
      " 68  Subflow Fwd Packets           float64\n",
      " 69   Subflow Fwd Bytes            float64\n",
      " 70   Subflow Bwd Packets          float64\n",
      " 71   Subflow Bwd Bytes            float64\n",
      " 72  Init_Win_bytes_forward        float64\n",
      " 73   Init_Win_bytes_backward      float64\n",
      " 74   act_data_pkt_fwd             float64\n",
      " 75   min_seg_size_forward         float64\n",
      " 76  Active Mean                   float64\n",
      " 77   Active Std                   float64\n",
      " 78   Active Max                   float64\n",
      " 79   Active Min                   float64\n",
      " 80  Idle Mean                     float64\n",
      " 81   Idle Std                     float64\n",
      " 82   Idle Max                     float64\n",
      " 83   Idle Min                     float64\n",
      " 84   Label                        object \n",
      "dtypes: float64(80), object(5)\n",
      "memory usage: 2.0+ GB\n"
     ]
    }
   ],
   "source": [
    "df.info()"
   ]
  },
  {
   "cell_type": "code",
   "execution_count": 7,
   "id": "8fa40f86",
   "metadata": {},
   "outputs": [
    {
     "data": {
      "text/html": [
       "<div>\n",
       "<style scoped>\n",
       "    .dataframe tbody tr th:only-of-type {\n",
       "        vertical-align: middle;\n",
       "    }\n",
       "\n",
       "    .dataframe tbody tr th {\n",
       "        vertical-align: top;\n",
       "    }\n",
       "\n",
       "    .dataframe thead th {\n",
       "        text-align: right;\n",
       "    }\n",
       "</style>\n",
       "<table border=\"1\" class=\"dataframe\">\n",
       "  <thead>\n",
       "    <tr style=\"text-align: right;\">\n",
       "      <th></th>\n",
       "      <th>Flow ID</th>\n",
       "      <th>Source IP</th>\n",
       "      <th>Source Port</th>\n",
       "      <th>Destination IP</th>\n",
       "      <th>Destination Port</th>\n",
       "      <th>Protocol</th>\n",
       "      <th>Timestamp</th>\n",
       "      <th>Flow Duration</th>\n",
       "      <th>Total Fwd Packets</th>\n",
       "      <th>Total Backward Packets</th>\n",
       "      <th>...</th>\n",
       "      <th>min_seg_size_forward</th>\n",
       "      <th>Active Mean</th>\n",
       "      <th>Active Std</th>\n",
       "      <th>Active Max</th>\n",
       "      <th>Active Min</th>\n",
       "      <th>Idle Mean</th>\n",
       "      <th>Idle Std</th>\n",
       "      <th>Idle Max</th>\n",
       "      <th>Idle Min</th>\n",
       "      <th>Label</th>\n",
       "    </tr>\n",
       "  </thead>\n",
       "  <tbody>\n",
       "    <tr>\n",
       "      <th>0</th>\n",
       "      <td>192.168.10.5-104.16.207.165-54865-443-6</td>\n",
       "      <td>104.16.207.165</td>\n",
       "      <td>443.0</td>\n",
       "      <td>192.168.10.5</td>\n",
       "      <td>54865.0</td>\n",
       "      <td>6.0</td>\n",
       "      <td>7/7/2017 3:30</td>\n",
       "      <td>3.0</td>\n",
       "      <td>2.0</td>\n",
       "      <td>0.0</td>\n",
       "      <td>...</td>\n",
       "      <td>20.0</td>\n",
       "      <td>0.0</td>\n",
       "      <td>0.0</td>\n",
       "      <td>0.0</td>\n",
       "      <td>0.0</td>\n",
       "      <td>0.0</td>\n",
       "      <td>0.0</td>\n",
       "      <td>0.0</td>\n",
       "      <td>0.0</td>\n",
       "      <td>BENIGN</td>\n",
       "    </tr>\n",
       "    <tr>\n",
       "      <th>1</th>\n",
       "      <td>192.168.10.5-104.16.28.216-55054-80-6</td>\n",
       "      <td>104.16.28.216</td>\n",
       "      <td>80.0</td>\n",
       "      <td>192.168.10.5</td>\n",
       "      <td>55054.0</td>\n",
       "      <td>6.0</td>\n",
       "      <td>7/7/2017 3:30</td>\n",
       "      <td>109.0</td>\n",
       "      <td>1.0</td>\n",
       "      <td>1.0</td>\n",
       "      <td>...</td>\n",
       "      <td>20.0</td>\n",
       "      <td>0.0</td>\n",
       "      <td>0.0</td>\n",
       "      <td>0.0</td>\n",
       "      <td>0.0</td>\n",
       "      <td>0.0</td>\n",
       "      <td>0.0</td>\n",
       "      <td>0.0</td>\n",
       "      <td>0.0</td>\n",
       "      <td>BENIGN</td>\n",
       "    </tr>\n",
       "    <tr>\n",
       "      <th>2</th>\n",
       "      <td>192.168.10.5-104.16.28.216-55055-80-6</td>\n",
       "      <td>104.16.28.216</td>\n",
       "      <td>80.0</td>\n",
       "      <td>192.168.10.5</td>\n",
       "      <td>55055.0</td>\n",
       "      <td>6.0</td>\n",
       "      <td>7/7/2017 3:30</td>\n",
       "      <td>52.0</td>\n",
       "      <td>1.0</td>\n",
       "      <td>1.0</td>\n",
       "      <td>...</td>\n",
       "      <td>20.0</td>\n",
       "      <td>0.0</td>\n",
       "      <td>0.0</td>\n",
       "      <td>0.0</td>\n",
       "      <td>0.0</td>\n",
       "      <td>0.0</td>\n",
       "      <td>0.0</td>\n",
       "      <td>0.0</td>\n",
       "      <td>0.0</td>\n",
       "      <td>BENIGN</td>\n",
       "    </tr>\n",
       "    <tr>\n",
       "      <th>3</th>\n",
       "      <td>192.168.10.16-104.17.241.25-46236-443-6</td>\n",
       "      <td>104.17.241.25</td>\n",
       "      <td>443.0</td>\n",
       "      <td>192.168.10.16</td>\n",
       "      <td>46236.0</td>\n",
       "      <td>6.0</td>\n",
       "      <td>7/7/2017 3:30</td>\n",
       "      <td>34.0</td>\n",
       "      <td>1.0</td>\n",
       "      <td>1.0</td>\n",
       "      <td>...</td>\n",
       "      <td>20.0</td>\n",
       "      <td>0.0</td>\n",
       "      <td>0.0</td>\n",
       "      <td>0.0</td>\n",
       "      <td>0.0</td>\n",
       "      <td>0.0</td>\n",
       "      <td>0.0</td>\n",
       "      <td>0.0</td>\n",
       "      <td>0.0</td>\n",
       "      <td>BENIGN</td>\n",
       "    </tr>\n",
       "    <tr>\n",
       "      <th>4</th>\n",
       "      <td>192.168.10.5-104.19.196.102-54863-443-6</td>\n",
       "      <td>104.19.196.102</td>\n",
       "      <td>443.0</td>\n",
       "      <td>192.168.10.5</td>\n",
       "      <td>54863.0</td>\n",
       "      <td>6.0</td>\n",
       "      <td>7/7/2017 3:30</td>\n",
       "      <td>3.0</td>\n",
       "      <td>2.0</td>\n",
       "      <td>0.0</td>\n",
       "      <td>...</td>\n",
       "      <td>20.0</td>\n",
       "      <td>0.0</td>\n",
       "      <td>0.0</td>\n",
       "      <td>0.0</td>\n",
       "      <td>0.0</td>\n",
       "      <td>0.0</td>\n",
       "      <td>0.0</td>\n",
       "      <td>0.0</td>\n",
       "      <td>0.0</td>\n",
       "      <td>BENIGN</td>\n",
       "    </tr>\n",
       "  </tbody>\n",
       "</table>\n",
       "<p>5 rows × 85 columns</p>\n",
       "</div>"
      ],
      "text/plain": [
       "                                   Flow ID       Source IP   Source Port  \\\n",
       "0  192.168.10.5-104.16.207.165-54865-443-6  104.16.207.165         443.0   \n",
       "1    192.168.10.5-104.16.28.216-55054-80-6   104.16.28.216          80.0   \n",
       "2    192.168.10.5-104.16.28.216-55055-80-6   104.16.28.216          80.0   \n",
       "3  192.168.10.16-104.17.241.25-46236-443-6   104.17.241.25         443.0   \n",
       "4  192.168.10.5-104.19.196.102-54863-443-6  104.19.196.102         443.0   \n",
       "\n",
       "   Destination IP   Destination Port   Protocol      Timestamp  \\\n",
       "0    192.168.10.5            54865.0        6.0  7/7/2017 3:30   \n",
       "1    192.168.10.5            55054.0        6.0  7/7/2017 3:30   \n",
       "2    192.168.10.5            55055.0        6.0  7/7/2017 3:30   \n",
       "3   192.168.10.16            46236.0        6.0  7/7/2017 3:30   \n",
       "4    192.168.10.5            54863.0        6.0  7/7/2017 3:30   \n",
       "\n",
       "    Flow Duration   Total Fwd Packets   Total Backward Packets  ...  \\\n",
       "0             3.0                 2.0                      0.0  ...   \n",
       "1           109.0                 1.0                      1.0  ...   \n",
       "2            52.0                 1.0                      1.0  ...   \n",
       "3            34.0                 1.0                      1.0  ...   \n",
       "4             3.0                 2.0                      0.0  ...   \n",
       "\n",
       "    min_seg_size_forward  Active Mean   Active Std   Active Max   Active Min  \\\n",
       "0                   20.0          0.0          0.0          0.0          0.0   \n",
       "1                   20.0          0.0          0.0          0.0          0.0   \n",
       "2                   20.0          0.0          0.0          0.0          0.0   \n",
       "3                   20.0          0.0          0.0          0.0          0.0   \n",
       "4                   20.0          0.0          0.0          0.0          0.0   \n",
       "\n",
       "   Idle Mean   Idle Std   Idle Max   Idle Min   Label  \n",
       "0        0.0        0.0        0.0        0.0  BENIGN  \n",
       "1        0.0        0.0        0.0        0.0  BENIGN  \n",
       "2        0.0        0.0        0.0        0.0  BENIGN  \n",
       "3        0.0        0.0        0.0        0.0  BENIGN  \n",
       "4        0.0        0.0        0.0        0.0  BENIGN  \n",
       "\n",
       "[5 rows x 85 columns]"
      ]
     },
     "execution_count": 7,
     "metadata": {},
     "output_type": "execute_result"
    }
   ],
   "source": [
    "df.head()"
   ]
  },
  {
   "cell_type": "code",
   "execution_count": 8,
   "id": "c10fbdc9",
   "metadata": {},
   "outputs": [
    {
     "data": {
      "text/plain": [
       "BENIGN                        2273097\n",
       "DoS Hulk                       231073\n",
       "PortScan                       158930\n",
       "DDoS                           128027\n",
       "DoS GoldenEye                   10293\n",
       "FTP-Patator                      7938\n",
       "SSH-Patator                      5897\n",
       "DoS slowloris                    5796\n",
       "DoS Slowhttptest                 5499\n",
       "Bot                              1966\n",
       "Web Attack – Brute Force         1507\n",
       "Web Attack – XSS                  652\n",
       "Infiltration                       36\n",
       "Web Attack – Sql Injection         21\n",
       "Heartbleed                         11\n",
       "Name:  Label, dtype: int64"
      ]
     },
     "execution_count": 8,
     "metadata": {},
     "output_type": "execute_result"
    }
   ],
   "source": [
    "df[\" Label\"].value_counts()"
   ]
  },
  {
   "cell_type": "code",
   "execution_count": 9,
   "id": "6de94b40",
   "metadata": {},
   "outputs": [
    {
     "data": {
      "image/png": "[encoded data removed]",
      "text/plain": [
       "<Figure size 1080x504 with 1 Axes>"
      ]
     },
     "metadata": {
      "needs_background": "light"
     },
     "output_type": "display_data"
    }
   ],
   "source": [
    "# Exploratory data analysis\n",
    "import matplotlib.pyplot as plt\n",
    "from matplotlib.pyplot import *\n",
    "\n",
    "plt.figure(figsize=(15,7))\n",
    "class_distribution = df[' Label'].value_counts()\n",
    "class_distribution.plot(kind='bar')\n",
    "plt.xlabel('Class')\n",
    "plt.ylabel('Data points per Class')\n",
    "plt.title('Distribution of data')\n",
    "plt.grid()\n",
    "plt.show()"
   ]
  },
  {
   "cell_type": "code",
   "execution_count": 10,
   "id": "e6300589",
   "metadata": {},
   "outputs": [
    {
     "data": {
      "text/plain": [
       "BENIGN                        2273097\n",
       "DoS Hulk                       231073\n",
       "PortScan                       158930\n",
       "DDoS                           128027\n",
       "DoS GoldenEye                   10293\n",
       "FTP-Patator                      7938\n",
       "SSH-Patator                      5897\n",
       "DoS slowloris                    5796\n",
       "DoS Slowhttptest                 5499\n",
       "Bot                              1966\n",
       "Web Attack – Brute Force         1507\n",
       "Web Attack – XSS                  652\n",
       "Infiltration                       36\n",
       "Web Attack – Sql Injection         21\n",
       "Heartbleed                         11\n",
       "Name:  Label, dtype: int64"
      ]
     },
     "execution_count": 10,
     "metadata": {},
     "output_type": "execute_result"
    }
   ],
   "source": [
    "df[\" Label\"].value_counts()"
   ]
  },
  {
   "cell_type": "code",
   "execution_count": 11,
   "id": "99d363fe",
   "metadata": {},
   "outputs": [
    {
     "data": {
      "image/png": "[encoded data removed]",
      "text/plain": [
       "<Figure size 1080x504 with 1 Axes>"
      ]
     },
     "metadata": {
      "needs_background": "light"
     },
     "output_type": "display_data"
    }
   ],
   "source": [
    "# Exploratory data analysis\n",
    "import matplotlib.pyplot as plt\n",
    "from matplotlib.pyplot import *\n",
    "\n",
    "plt.figure(figsize=(15,7))\n",
    "class_distribution = df[df[\" Label\"] != \"BENIGN\"][\" Label\"].value_counts()\n",
    "class_distribution.plot(kind='bar')\n",
    "plt.xlabel('Class')\n",
    "plt.ylabel('Data points per Class')\n",
    "plt.title('Distribution of data without Benign')\n",
    "plt.grid()\n",
    "plt.show()"
   ]
  },
  {
   "cell_type": "code",
   "execution_count": 12,
   "id": "771cf49f",
   "metadata": {},
   "outputs": [
    {
     "data": {
      "text/plain": [
       "array(['BENIGN', 'DDoS', 'PortScan', 'Bot', 'Infiltration',\n",
       "       'Web Attack – Brute Force', 'Web Attack – XSS',\n",
       "       'Web Attack – Sql Injection', nan, 'FTP-Patator', 'SSH-Patator',\n",
       "       'DoS slowloris', 'DoS Slowhttptest', 'DoS Hulk', 'DoS GoldenEye',\n",
       "       'Heartbleed'], dtype=object)"
      ]
     },
     "execution_count": 12,
     "metadata": {},
     "output_type": "execute_result"
    }
   ],
   "source": [
    "#np.unique(df[\" Label\"])\n",
    "df[\" Label\"].unique()"
   ]
  },
  {
   "cell_type": "code",
   "execution_count": 13,
   "id": "cb4edfa3",
   "metadata": {},
   "outputs": [
    {
     "data": {
      "text/plain": [
       "BENIGN                        2273097\n",
       "DoS Hulk                       231073\n",
       "PortScan                       158930\n",
       "DDoS                           128027\n",
       "DoS GoldenEye                   10293\n",
       "FTP-Patator                      7938\n",
       "SSH-Patator                      5897\n",
       "DoS slowloris                    5796\n",
       "DoS Slowhttptest                 5499\n",
       "Bot                              1966\n",
       "Web Attack – Brute Force         1507\n",
       "Web Attack – XSS                  652\n",
       "Infiltration                       36\n",
       "Web Attack – Sql Injection         21\n",
       "Heartbleed                         11\n",
       "Name:  Label, dtype: int64"
      ]
     },
     "execution_count": 13,
     "metadata": {},
     "output_type": "execute_result"
    }
   ],
   "source": [
    "df[' Label'].value_counts()"
   ]
  },
  {
   "cell_type": "code",
   "execution_count": 14,
   "id": "f8cbde09",
   "metadata": {},
   "outputs": [
    {
     "data": {
      "text/plain": [
       "BENIGN                        2272688\n",
       "DoS Hulk                       230124\n",
       "PortScan                       158930\n",
       "DDoS                           128027\n",
       "DoS GoldenEye                   10293\n",
       "FTP-Patator                      7938\n",
       "SSH-Patator                      5897\n",
       "DoS slowloris                    5796\n",
       "DoS Slowhttptest                 5499\n",
       "Bot                              1966\n",
       "Web Attack – Brute Force         1507\n",
       "Web Attack – XSS                  652\n",
       "Infiltration                       36\n",
       "Web Attack – Sql Injection         21\n",
       "Heartbleed                         11\n",
       "Name:  Label, dtype: int64"
      ]
     },
     "execution_count": 14,
     "metadata": {},
     "output_type": "execute_result"
    }
   ],
   "source": [
    "#drop na values and reset index\n",
    "data_clean = df.dropna().reset_index()\n",
    "\n",
    "data_clean[' Label'].value_counts()\n"
   ]
  },
  {
   "cell_type": "code",
   "execution_count": 15,
   "id": "618ad8b1",
   "metadata": {},
   "outputs": [
    {
     "data": {
      "text/plain": [
       "Index(['Flow ID', ' Source IP', ' Source Port', ' Destination IP',\n",
       "       ' Destination Port', ' Protocol', ' Timestamp', ' Flow Duration',\n",
       "       ' Total Fwd Packets', ' Total Backward Packets',\n",
       "       'Total Length of Fwd Packets', ' Total Length of Bwd Packets',\n",
       "       ' Fwd Packet Length Max', ' Fwd Packet Length Min',\n",
       "       ' Fwd Packet Length Mean', ' Fwd Packet Length Std',\n",
       "       'Bwd Packet Length Max', ' Bwd Packet Length Min',\n",
       "       ' Bwd Packet Length Mean', ' Bwd Packet Length Std', 'Flow Bytes/s',\n",
       "       ' Flow Packets/s', ' Flow IAT Mean', ' Flow IAT Std', ' Flow IAT Max',\n",
       "       ' Flow IAT Min', 'Fwd IAT Total', ' Fwd IAT Mean', ' Fwd IAT Std',\n",
       "       ' Fwd IAT Max', ' Fwd IAT Min', 'Bwd IAT Total', ' Bwd IAT Mean',\n",
       "       ' Bwd IAT Std', ' Bwd IAT Max', ' Bwd IAT Min', 'Fwd PSH Flags',\n",
       "       ' Bwd PSH Flags', ' Fwd URG Flags', ' Bwd URG Flags',\n",
       "       ' Fwd Header Length', ' Bwd Header Length', 'Fwd Packets/s',\n",
       "       ' Bwd Packets/s', ' Min Packet Length', ' Max Packet Length',\n",
       "       ' Packet Length Mean', ' Packet Length Std', ' Packet Length Variance',\n",
       "       'FIN Flag Count', ' SYN Flag Count', ' RST Flag Count',\n",
       "       ' PSH Flag Count', ' ACK Flag Count', ' URG Flag Count',\n",
       "       ' CWE Flag Count', ' ECE Flag Count', ' Down/Up Ratio',\n",
       "       ' Average Packet Size', ' Avg Fwd Segment Size',\n",
       "       ' Avg Bwd Segment Size', ' Fwd Header Length.1', 'Fwd Avg Bytes/Bulk',\n",
       "       ' Fwd Avg Packets/Bulk', ' Fwd Avg Bulk Rate', ' Bwd Avg Bytes/Bulk',\n",
       "       ' Bwd Avg Packets/Bulk', 'Bwd Avg Bulk Rate', 'Subflow Fwd Packets',\n",
       "       ' Subflow Fwd Bytes', ' Subflow Bwd Packets', ' Subflow Bwd Bytes',\n",
       "       'Init_Win_bytes_forward', ' Init_Win_bytes_backward',\n",
       "       ' act_data_pkt_fwd', ' min_seg_size_forward', 'Active Mean',\n",
       "       ' Active Std', ' Active Max', ' Active Min', 'Idle Mean', ' Idle Std',\n",
       "       ' Idle Max', ' Idle Min', ' Label'],\n",
       "      dtype='object')"
      ]
     },
     "execution_count": 15,
     "metadata": {},
     "output_type": "execute_result"
    }
   ],
   "source": [
    "df.columns"
   ]
  },
  {
   "cell_type": "code",
   "execution_count": 16,
   "id": "552e99ed",
   "metadata": {},
   "outputs": [],
   "source": [
    "df=df.drop('Flow ID',axis=1)\n",
    "df=df.drop(' Source IP',axis=1)\n",
    "df=df.drop(' Destination IP',axis=1)\n",
    "df=df.drop(' Timestamp',axis=1)\n",
    "#df=df.drop(' Source Port',axis=1)\n",
    "#df=df.drop(' Destination Port',axis=1)"
   ]
  },
  {
   "cell_type": "code",
   "execution_count": 17,
   "id": "12924dd6",
   "metadata": {},
   "outputs": [
    {
     "data": {
      "text/plain": [
       "Index([' Source Port', ' Destination Port', ' Protocol', ' Flow Duration',\n",
       "       ' Total Fwd Packets', ' Total Backward Packets',\n",
       "       'Total Length of Fwd Packets', ' Total Length of Bwd Packets',\n",
       "       ' Fwd Packet Length Max', ' Fwd Packet Length Min',\n",
       "       ' Fwd Packet Length Mean', ' Fwd Packet Length Std',\n",
       "       'Bwd Packet Length Max', ' Bwd Packet Length Min',\n",
       "       ' Bwd Packet Length Mean', ' Bwd Packet Length Std', 'Flow Bytes/s',\n",
       "       ' Flow Packets/s', ' Flow IAT Mean', ' Flow IAT Std', ' Flow IAT Max',\n",
       "       ' Flow IAT Min', 'Fwd IAT Total', ' Fwd IAT Mean', ' Fwd IAT Std',\n",
       "       ' Fwd IAT Max', ' Fwd IAT Min', 'Bwd IAT Total', ' Bwd IAT Mean',\n",
       "       ' Bwd IAT Std', ' Bwd IAT Max', ' Bwd IAT Min', 'Fwd PSH Flags',\n",
       "       ' Bwd PSH Flags', ' Fwd URG Flags', ' Bwd URG Flags',\n",
       "       ' Fwd Header Length', ' Bwd Header Length', 'Fwd Packets/s',\n",
       "       ' Bwd Packets/s', ' Min Packet Length', ' Max Packet Length',\n",
       "       ' Packet Length Mean', ' Packet Length Std', ' Packet Length Variance',\n",
       "       'FIN Flag Count', ' SYN Flag Count', ' RST Flag Count',\n",
       "       ' PSH Flag Count', ' ACK Flag Count', ' URG Flag Count',\n",
       "       ' CWE Flag Count', ' ECE Flag Count', ' Down/Up Ratio',\n",
       "       ' Average Packet Size', ' Avg Fwd Segment Size',\n",
       "       ' Avg Bwd Segment Size', ' Fwd Header Length.1', 'Fwd Avg Bytes/Bulk',\n",
       "       ' Fwd Avg Packets/Bulk', ' Fwd Avg Bulk Rate', ' Bwd Avg Bytes/Bulk',\n",
       "       ' Bwd Avg Packets/Bulk', 'Bwd Avg Bulk Rate', 'Subflow Fwd Packets',\n",
       "       ' Subflow Fwd Bytes', ' Subflow Bwd Packets', ' Subflow Bwd Bytes',\n",
       "       'Init_Win_bytes_forward', ' Init_Win_bytes_backward',\n",
       "       ' act_data_pkt_fwd', ' min_seg_size_forward', 'Active Mean',\n",
       "       ' Active Std', ' Active Max', ' Active Min', 'Idle Mean', ' Idle Std',\n",
       "       ' Idle Max', ' Idle Min', ' Label'],\n",
       "      dtype='object')"
      ]
     },
     "execution_count": 17,
     "metadata": {},
     "output_type": "execute_result"
    }
   ],
   "source": [
    "df.columns"
   ]
  },
  {
   "cell_type": "code",
   "execution_count": 18,
   "id": "c55114c0",
   "metadata": {},
   "outputs": [
    {
     "data": {
      "text/plain": [
       "0     2272688\n",
       "4      230124\n",
       "10     158930\n",
       "2      128027\n",
       "3       10293\n",
       "7        7938\n",
       "11       5897\n",
       "6        5796\n",
       "5        5499\n",
       "1        1966\n",
       "12       1507\n",
       "14        652\n",
       "9          36\n",
       "13         21\n",
       "8          11\n",
       "Name:  Label, dtype: int64"
      ]
     },
     "execution_count": 18,
     "metadata": {},
     "output_type": "execute_result"
    }
   ],
   "source": [
    "from sklearn.model_selection import train_test_split\n",
    "from sklearn.preprocessing import OneHotEncoder, StandardScaler, LabelEncoder\n",
    "\n",
    "\n",
    "\n",
    "#drop na values and reset index\n",
    "data_clean = df.dropna().reset_index()\n",
    "\n",
    "# label encoding\n",
    "labelencoder = LabelEncoder()\n",
    "data_clean[' Label'] = labelencoder.fit_transform(data_clean[' Label'])\n",
    "\n",
    "data_clean[' Label'].value_counts()"
   ]
  },
  {
   "cell_type": "code",
   "execution_count": 19,
   "id": "acd1a895",
   "metadata": {},
   "outputs": [
    {
     "data": {
      "text/html": [
       "<div>\n",
       "<style scoped>\n",
       "    .dataframe tbody tr th:only-of-type {\n",
       "        vertical-align: middle;\n",
       "    }\n",
       "\n",
       "    .dataframe tbody tr th {\n",
       "        vertical-align: top;\n",
       "    }\n",
       "\n",
       "    .dataframe thead th {\n",
       "        text-align: right;\n",
       "    }\n",
       "</style>\n",
       "<table border=\"1\" class=\"dataframe\">\n",
       "  <thead>\n",
       "    <tr style=\"text-align: right;\">\n",
       "      <th></th>\n",
       "      <th>index</th>\n",
       "      <th>Source Port</th>\n",
       "      <th>Destination Port</th>\n",
       "      <th>Protocol</th>\n",
       "      <th>Flow Duration</th>\n",
       "      <th>Total Fwd Packets</th>\n",
       "      <th>Total Backward Packets</th>\n",
       "      <th>Total Length of Fwd Packets</th>\n",
       "      <th>Total Length of Bwd Packets</th>\n",
       "      <th>Fwd Packet Length Max</th>\n",
       "      <th>...</th>\n",
       "      <th>min_seg_size_forward</th>\n",
       "      <th>Active Mean</th>\n",
       "      <th>Active Std</th>\n",
       "      <th>Active Max</th>\n",
       "      <th>Active Min</th>\n",
       "      <th>Idle Mean</th>\n",
       "      <th>Idle Std</th>\n",
       "      <th>Idle Max</th>\n",
       "      <th>Idle Min</th>\n",
       "      <th>Label</th>\n",
       "    </tr>\n",
       "  </thead>\n",
       "  <tbody>\n",
       "    <tr>\n",
       "      <th>count</th>\n",
       "      <td>2.829385e+06</td>\n",
       "      <td>2.829385e+06</td>\n",
       "      <td>2.829385e+06</td>\n",
       "      <td>2.829385e+06</td>\n",
       "      <td>2.829385e+06</td>\n",
       "      <td>2.829385e+06</td>\n",
       "      <td>2.829385e+06</td>\n",
       "      <td>2.829385e+06</td>\n",
       "      <td>2.829385e+06</td>\n",
       "      <td>2.829385e+06</td>\n",
       "      <td>...</td>\n",
       "      <td>2.829385e+06</td>\n",
       "      <td>2.829385e+06</td>\n",
       "      <td>2.829385e+06</td>\n",
       "      <td>2.829385e+06</td>\n",
       "      <td>2.829385e+06</td>\n",
       "      <td>2.829385e+06</td>\n",
       "      <td>2.829385e+06</td>\n",
       "      <td>2.829385e+06</td>\n",
       "      <td>2.829385e+06</td>\n",
       "      <td>2.829385e+06</td>\n",
       "    </tr>\n",
       "    <tr>\n",
       "      <th>mean</th>\n",
       "      <td>1.531043e+06</td>\n",
       "      <td>4.112920e+04</td>\n",
       "      <td>8.071249e+03</td>\n",
       "      <td>9.882203e+00</td>\n",
       "      <td>1.479276e+07</td>\n",
       "      <td>9.364763e+00</td>\n",
       "      <td>1.039869e+01</td>\n",
       "      <td>5.495661e+02</td>\n",
       "      <td>1.617040e+04</td>\n",
       "      <td>2.076996e+02</td>\n",
       "      <td>...</td>\n",
       "      <td>-2.743019e+03</td>\n",
       "      <td>8.159046e+04</td>\n",
       "      <td>4.115386e+04</td>\n",
       "      <td>1.532560e+05</td>\n",
       "      <td>5.832380e+04</td>\n",
       "      <td>8.320028e+06</td>\n",
       "      <td>5.040858e+05</td>\n",
       "      <td>8.699926e+06</td>\n",
       "      <td>7.923832e+06</td>\n",
       "      <td>1.063587e+00</td>\n",
       "    </tr>\n",
       "    <tr>\n",
       "      <th>std</th>\n",
       "      <td>9.402861e+05</td>\n",
       "      <td>2.229661e+04</td>\n",
       "      <td>1.828343e+04</td>\n",
       "      <td>5.262498e+00</td>\n",
       "      <td>3.366026e+07</td>\n",
       "      <td>7.498527e+02</td>\n",
       "      <td>9.976276e+02</td>\n",
       "      <td>9.995980e+03</td>\n",
       "      <td>2.263631e+06</td>\n",
       "      <td>7.173425e+02</td>\n",
       "      <td>...</td>\n",
       "      <td>1.085250e+06</td>\n",
       "      <td>6.487531e+05</td>\n",
       "      <td>3.934749e+05</td>\n",
       "      <td>1.026066e+06</td>\n",
       "      <td>5.772293e+05</td>\n",
       "      <td>2.363505e+07</td>\n",
       "      <td>4.604076e+06</td>\n",
       "      <td>2.437199e+07</td>\n",
       "      <td>2.336838e+07</td>\n",
       "      <td>2.576445e+00</td>\n",
       "    </tr>\n",
       "    <tr>\n",
       "      <th>min</th>\n",
       "      <td>0.000000e+00</td>\n",
       "      <td>0.000000e+00</td>\n",
       "      <td>0.000000e+00</td>\n",
       "      <td>0.000000e+00</td>\n",
       "      <td>-1.300000e+01</td>\n",
       "      <td>1.000000e+00</td>\n",
       "      <td>0.000000e+00</td>\n",
       "      <td>0.000000e+00</td>\n",
       "      <td>0.000000e+00</td>\n",
       "      <td>0.000000e+00</td>\n",
       "      <td>...</td>\n",
       "      <td>-5.368707e+08</td>\n",
       "      <td>0.000000e+00</td>\n",
       "      <td>0.000000e+00</td>\n",
       "      <td>0.000000e+00</td>\n",
       "      <td>0.000000e+00</td>\n",
       "      <td>0.000000e+00</td>\n",
       "      <td>0.000000e+00</td>\n",
       "      <td>0.000000e+00</td>\n",
       "      <td>0.000000e+00</td>\n",
       "      <td>0.000000e+00</td>\n",
       "    </tr>\n",
       "    <tr>\n",
       "      <th>25%</th>\n",
       "      <td>7.073940e+05</td>\n",
       "      <td>3.277000e+04</td>\n",
       "      <td>5.300000e+01</td>\n",
       "      <td>6.000000e+00</td>\n",
       "      <td>1.550000e+02</td>\n",
       "      <td>2.000000e+00</td>\n",
       "      <td>1.000000e+00</td>\n",
       "      <td>1.200000e+01</td>\n",
       "      <td>2.000000e+00</td>\n",
       "      <td>6.000000e+00</td>\n",
       "      <td>...</td>\n",
       "      <td>2.000000e+01</td>\n",
       "      <td>0.000000e+00</td>\n",
       "      <td>0.000000e+00</td>\n",
       "      <td>0.000000e+00</td>\n",
       "      <td>0.000000e+00</td>\n",
       "      <td>0.000000e+00</td>\n",
       "      <td>0.000000e+00</td>\n",
       "      <td>0.000000e+00</td>\n",
       "      <td>0.000000e+00</td>\n",
       "      <td>0.000000e+00</td>\n",
       "    </tr>\n",
       "    <tr>\n",
       "      <th>50%</th>\n",
       "      <td>1.414816e+06</td>\n",
       "      <td>5.094600e+04</td>\n",
       "      <td>8.000000e+01</td>\n",
       "      <td>6.000000e+00</td>\n",
       "      <td>3.132700e+04</td>\n",
       "      <td>2.000000e+00</td>\n",
       "      <td>2.000000e+00</td>\n",
       "      <td>6.200000e+01</td>\n",
       "      <td>1.230000e+02</td>\n",
       "      <td>3.700000e+01</td>\n",
       "      <td>...</td>\n",
       "      <td>2.400000e+01</td>\n",
       "      <td>0.000000e+00</td>\n",
       "      <td>0.000000e+00</td>\n",
       "      <td>0.000000e+00</td>\n",
       "      <td>0.000000e+00</td>\n",
       "      <td>0.000000e+00</td>\n",
       "      <td>0.000000e+00</td>\n",
       "      <td>0.000000e+00</td>\n",
       "      <td>0.000000e+00</td>\n",
       "      <td>0.000000e+00</td>\n",
       "    </tr>\n",
       "    <tr>\n",
       "      <th>75%</th>\n",
       "      <td>2.410982e+06</td>\n",
       "      <td>5.841600e+04</td>\n",
       "      <td>4.430000e+02</td>\n",
       "      <td>1.700000e+01</td>\n",
       "      <td>3.221416e+06</td>\n",
       "      <td>5.000000e+00</td>\n",
       "      <td>4.000000e+00</td>\n",
       "      <td>1.870000e+02</td>\n",
       "      <td>4.820000e+02</td>\n",
       "      <td>8.100000e+01</td>\n",
       "      <td>...</td>\n",
       "      <td>3.200000e+01</td>\n",
       "      <td>0.000000e+00</td>\n",
       "      <td>0.000000e+00</td>\n",
       "      <td>0.000000e+00</td>\n",
       "      <td>0.000000e+00</td>\n",
       "      <td>0.000000e+00</td>\n",
       "      <td>0.000000e+00</td>\n",
       "      <td>0.000000e+00</td>\n",
       "      <td>0.000000e+00</td>\n",
       "      <td>0.000000e+00</td>\n",
       "    </tr>\n",
       "    <tr>\n",
       "      <th>max</th>\n",
       "      <td>3.119344e+06</td>\n",
       "      <td>6.553500e+04</td>\n",
       "      <td>6.553500e+04</td>\n",
       "      <td>1.700000e+01</td>\n",
       "      <td>1.200000e+08</td>\n",
       "      <td>2.197590e+05</td>\n",
       "      <td>2.919220e+05</td>\n",
       "      <td>1.290000e+07</td>\n",
       "      <td>6.554530e+08</td>\n",
       "      <td>2.482000e+04</td>\n",
       "      <td>...</td>\n",
       "      <td>1.380000e+02</td>\n",
       "      <td>1.100000e+08</td>\n",
       "      <td>7.420000e+07</td>\n",
       "      <td>1.100000e+08</td>\n",
       "      <td>1.100000e+08</td>\n",
       "      <td>1.200000e+08</td>\n",
       "      <td>7.690000e+07</td>\n",
       "      <td>1.200000e+08</td>\n",
       "      <td>1.200000e+08</td>\n",
       "      <td>1.400000e+01</td>\n",
       "    </tr>\n",
       "  </tbody>\n",
       "</table>\n",
       "<p>8 rows × 82 columns</p>\n",
       "</div>"
      ],
      "text/plain": [
       "              index   Source Port   Destination Port      Protocol  \\\n",
       "count  2.829385e+06  2.829385e+06       2.829385e+06  2.829385e+06   \n",
       "mean   1.531043e+06  4.112920e+04       8.071249e+03  9.882203e+00   \n",
       "std    9.402861e+05  2.229661e+04       1.828343e+04  5.262498e+00   \n",
       "min    0.000000e+00  0.000000e+00       0.000000e+00  0.000000e+00   \n",
       "25%    7.073940e+05  3.277000e+04       5.300000e+01  6.000000e+00   \n",
       "50%    1.414816e+06  5.094600e+04       8.000000e+01  6.000000e+00   \n",
       "75%    2.410982e+06  5.841600e+04       4.430000e+02  1.700000e+01   \n",
       "max    3.119344e+06  6.553500e+04       6.553500e+04  1.700000e+01   \n",
       "\n",
       "        Flow Duration   Total Fwd Packets   Total Backward Packets  \\\n",
       "count    2.829385e+06        2.829385e+06             2.829385e+06   \n",
       "mean     1.479276e+07        9.364763e+00             1.039869e+01   \n",
       "std      3.366026e+07        7.498527e+02             9.976276e+02   \n",
       "min     -1.300000e+01        1.000000e+00             0.000000e+00   \n",
       "25%      1.550000e+02        2.000000e+00             1.000000e+00   \n",
       "50%      3.132700e+04        2.000000e+00             2.000000e+00   \n",
       "75%      3.221416e+06        5.000000e+00             4.000000e+00   \n",
       "max      1.200000e+08        2.197590e+05             2.919220e+05   \n",
       "\n",
       "       Total Length of Fwd Packets   Total Length of Bwd Packets  \\\n",
       "count                 2.829385e+06                  2.829385e+06   \n",
       "mean                  5.495661e+02                  1.617040e+04   \n",
       "std                   9.995980e+03                  2.263631e+06   \n",
       "min                   0.000000e+00                  0.000000e+00   \n",
       "25%                   1.200000e+01                  2.000000e+00   \n",
       "50%                   6.200000e+01                  1.230000e+02   \n",
       "75%                   1.870000e+02                  4.820000e+02   \n",
       "max                   1.290000e+07                  6.554530e+08   \n",
       "\n",
       "        Fwd Packet Length Max  ...   min_seg_size_forward   Active Mean  \\\n",
       "count            2.829385e+06  ...           2.829385e+06  2.829385e+06   \n",
       "mean             2.076996e+02  ...          -2.743019e+03  8.159046e+04   \n",
       "std              7.173425e+02  ...           1.085250e+06  6.487531e+05   \n",
       "min              0.000000e+00  ...          -5.368707e+08  0.000000e+00   \n",
       "25%              6.000000e+00  ...           2.000000e+01  0.000000e+00   \n",
       "50%              3.700000e+01  ...           2.400000e+01  0.000000e+00   \n",
       "75%              8.100000e+01  ...           3.200000e+01  0.000000e+00   \n",
       "max              2.482000e+04  ...           1.380000e+02  1.100000e+08   \n",
       "\n",
       "         Active Std    Active Max    Active Min     Idle Mean      Idle Std  \\\n",
       "count  2.829385e+06  2.829385e+06  2.829385e+06  2.829385e+06  2.829385e+06   \n",
       "mean   4.115386e+04  1.532560e+05  5.832380e+04  8.320028e+06  5.040858e+05   \n",
       "std    3.934749e+05  1.026066e+06  5.772293e+05  2.363505e+07  4.604076e+06   \n",
       "min    0.000000e+00  0.000000e+00  0.000000e+00  0.000000e+00  0.000000e+00   \n",
       "25%    0.000000e+00  0.000000e+00  0.000000e+00  0.000000e+00  0.000000e+00   \n",
       "50%    0.000000e+00  0.000000e+00  0.000000e+00  0.000000e+00  0.000000e+00   \n",
       "75%    0.000000e+00  0.000000e+00  0.000000e+00  0.000000e+00  0.000000e+00   \n",
       "max    7.420000e+07  1.100000e+08  1.100000e+08  1.200000e+08  7.690000e+07   \n",
       "\n",
       "           Idle Max      Idle Min         Label  \n",
       "count  2.829385e+06  2.829385e+06  2.829385e+06  \n",
       "mean   8.699926e+06  7.923832e+06  1.063587e+00  \n",
       "std    2.437199e+07  2.336838e+07  2.576445e+00  \n",
       "min    0.000000e+00  0.000000e+00  0.000000e+00  \n",
       "25%    0.000000e+00  0.000000e+00  0.000000e+00  \n",
       "50%    0.000000e+00  0.000000e+00  0.000000e+00  \n",
       "75%    0.000000e+00  0.000000e+00  0.000000e+00  \n",
       "max    1.200000e+08  1.200000e+08  1.400000e+01  \n",
       "\n",
       "[8 rows x 82 columns]"
      ]
     },
     "execution_count": 19,
     "metadata": {},
     "output_type": "execute_result"
    }
   ],
   "source": [
    "data_clean.describe()"
   ]
  },
  {
   "cell_type": "code",
   "execution_count": 20,
   "id": "ef06742f",
   "metadata": {},
   "outputs": [],
   "source": [
    "data_np = data_clean.to_numpy(dtype=\"float32\")\n",
    "\n",
    "#drop inf values\n",
    "data_np = data_np[~np.isinf(data_np).any(axis=1)]\n",
    "\n",
    "X = data_np[:, 0:80]\n",
    "\n",
    "enc = OneHotEncoder()\n",
    "\n",
    "Y = enc.fit_transform(data_np[:,81:]).toarray()"
   ]
  },
  {
   "cell_type": "code",
   "execution_count": 21,
   "id": "d4c7ef93",
   "metadata": {},
   "outputs": [],
   "source": [
    "scaler = StandardScaler()\n",
    "X_scaled = scaler.fit_transform(X)\n",
    "\n",
    "# Split the data set into training and testing\n",
    "X_train, X_test, Y_train, Y_test = train_test_split(\n",
    "    X_scaled, Y, test_size=0.25, random_state=2, shuffle=True)\n",
    "\n",
    "_features = X.shape[1]\n",
    "n_classes = Y.shape[1]"
   ]
  },
  {
   "cell_type": "code",
   "execution_count": 22,
   "id": "bf7b5186",
   "metadata": {},
   "outputs": [
    {
     "data": {
      "text/plain": [
       "(2827876, 80)"
      ]
     },
     "execution_count": 22,
     "metadata": {},
     "output_type": "execute_result"
    }
   ],
   "source": [
    "X.shape"
   ]
  },
  {
   "cell_type": "code",
   "execution_count": 23,
   "id": "2621fea1",
   "metadata": {},
   "outputs": [
    {
     "data": {
      "text/plain": [
       "(2827876, 15)"
      ]
     },
     "execution_count": 23,
     "metadata": {},
     "output_type": "execute_result"
    }
   ],
   "source": [
    "Y.shape"
   ]
  },
  {
   "cell_type": "code",
   "execution_count": null,
   "id": "6e6f6820",
   "metadata": {},
   "outputs": [],
   "source": []
  },
  {
   "cell_type": "code",
   "execution_count": null,
   "id": "aca621ab",
   "metadata": {},
   "outputs": [],
   "source": []
  },
  {
   "cell_type": "markdown",
   "id": "d3eb1ec2",
   "metadata": {},
   "source": [
    "# DNN"
   ]
  },
  {
   "cell_type": "code",
   "execution_count": 24,
   "id": "2754a698",
   "metadata": {},
   "outputs": [],
   "source": [
    "# In order to ignore FutureWarning\n",
    "import warnings\n",
    "warnings.simplefilter(action='ignore', category=FutureWarning)\n",
    "warnings.simplefilter(action='ignore', category=DeprecationWarning)\n",
    "\n",
    "from keras.models import Sequential\n",
    "from keras import callbacks\n",
    "from keras.layers import Dense, Activation, Flatten, Convolution1D, Dropout\n",
    "from sklearn import metrics\n",
    "from tensorflow import keras\n",
    "import tensorflow as tf"
   ]
  },
  {
   "cell_type": "code",
   "execution_count": 25,
   "id": "a33c0d3a",
   "metadata": {},
   "outputs": [
    {
     "name": "stdout",
     "output_type": "stream",
     "text": [
      "Model: \"sequential\"\n",
      "_________________________________________________________________\n",
      " Layer (type)                Output Shape              Param #   \n",
      "=================================================================\n",
      " dense (Dense)               (None, 128)               10368     \n",
      "                                                                 \n",
      " dropout (Dropout)           (None, 128)               0         \n",
      "                                                                 \n",
      " dense_1 (Dense)             (None, 256)               33024     \n",
      "                                                                 \n",
      " dropout_1 (Dropout)         (None, 256)               0         \n",
      "                                                                 \n",
      " dense_2 (Dense)             (None, 128)               32896     \n",
      "                                                                 \n",
      " dropout_2 (Dropout)         (None, 128)               0         \n",
      "                                                                 \n",
      " dense_3 (Dense)             (None, 256)               33024     \n",
      "                                                                 \n",
      " dropout_3 (Dropout)         (None, 256)               0         \n",
      "                                                                 \n",
      " dense_4 (Dense)             (None, 15)                3855      \n",
      "                                                                 \n",
      " dense_5 (Dense)             (None, 15)                240       \n",
      "                                                                 \n",
      "=================================================================\n",
      "Total params: 113,407\n",
      "Trainable params: 113,407\n",
      "Non-trainable params: 0\n",
      "_________________________________________________________________\n",
      "Epoch 1/30\n",
      "16570/16570 [==============================] - 58s 3ms/step - loss: 0.0110 - accuracy: 0.9802 - val_loss: 0.0023 - val_accuracy: 0.9943 - lr: 1.0000e-04\n",
      "Epoch 2/30\n",
      "16570/16570 [==============================] - 56s 3ms/step - loss: 0.0024 - accuracy: 0.9943 - val_loss: 0.0015 - val_accuracy: 0.9964 - lr: 1.0000e-04\n",
      "Epoch 3/30\n",
      "16570/16570 [==============================] - 56s 3ms/step - loss: 0.0017 - accuracy: 0.9960 - val_loss: 0.0010 - val_accuracy: 0.9975 - lr: 1.0000e-04\n",
      "Epoch 4/30\n",
      "16570/16570 [==============================] - 54s 3ms/step - loss: 0.0013 - accuracy: 0.9968 - val_loss: 8.6219e-04 - val_accuracy: 0.9978 - lr: 1.0000e-04\n",
      "Epoch 5/30\n",
      "16570/16570 [==============================] - 56s 3ms/step - loss: 0.0011 - accuracy: 0.9973 - val_loss: 6.7121e-04 - val_accuracy: 0.9984 - lr: 1.0000e-04\n",
      "Epoch 6/30\n",
      "16570/16570 [==============================] - 57s 3ms/step - loss: 9.5520e-04 - accuracy: 0.9977 - val_loss: 6.5118e-04 - val_accuracy: 0.9983 - lr: 1.0000e-04\n",
      "Epoch 7/30\n",
      "16570/16570 [==============================] - 58s 3ms/step - loss: 8.5749e-04 - accuracy: 0.9980 - val_loss: 5.9989e-04 - val_accuracy: 0.9984 - lr: 1.0000e-04\n",
      "Epoch 8/30\n",
      "16570/16570 [==============================] - 57s 3ms/step - loss: 7.9389e-04 - accuracy: 0.9981 - val_loss: 5.1358e-04 - val_accuracy: 0.9989 - lr: 1.0000e-04\n",
      "Epoch 9/30\n",
      "16570/16570 [==============================] - 57s 3ms/step - loss: 7.4117e-04 - accuracy: 0.9983 - val_loss: 5.8324e-04 - val_accuracy: 0.9985 - lr: 1.0000e-04\n",
      "Epoch 10/30\n",
      "16570/16570 [==============================] - 57s 3ms/step - loss: 6.9333e-04 - accuracy: 0.9984 - val_loss: 5.1968e-04 - val_accuracy: 0.9989 - lr: 1.0000e-04\n",
      "Epoch 11/30\n",
      "16570/16570 [==============================] - 58s 3ms/step - loss: 6.6794e-04 - accuracy: 0.9984 - val_loss: 4.0189e-04 - val_accuracy: 0.9992 - lr: 1.0000e-04\n",
      "Epoch 12/30\n",
      "16570/16570 [==============================] - 56s 3ms/step - loss: 6.4463e-04 - accuracy: 0.9985 - val_loss: 4.6626e-04 - val_accuracy: 0.9990 - lr: 1.0000e-04\n",
      "Epoch 13/30\n",
      "16570/16570 [==============================] - 57s 3ms/step - loss: 6.2143e-04 - accuracy: 0.9985 - val_loss: 4.2435e-04 - val_accuracy: 0.9990 - lr: 1.0000e-04\n",
      "Epoch 14/30\n",
      "16570/16570 [==============================] - 58s 4ms/step - loss: 5.8945e-04 - accuracy: 0.9987 - val_loss: 4.1424e-04 - val_accuracy: 0.9991 - lr: 1.0000e-04\n",
      "Epoch 15/30\n",
      "16570/16570 [==============================] - 57s 3ms/step - loss: 5.7337e-04 - accuracy: 0.9987 - val_loss: 3.6643e-04 - val_accuracy: 0.9993 - lr: 1.0000e-04\n",
      "Epoch 16/30\n",
      "16570/16570 [==============================] - 53s 3ms/step - loss: 5.5009e-04 - accuracy: 0.9988 - val_loss: 3.5384e-04 - val_accuracy: 0.9993 - lr: 1.0000e-04\n",
      "Epoch 17/30\n",
      "16570/16570 [==============================] - 57s 3ms/step - loss: 5.4318e-04 - accuracy: 0.9988 - val_loss: 3.5841e-04 - val_accuracy: 0.9992 - lr: 1.0000e-04\n",
      "Epoch 18/30\n",
      "16570/16570 [==============================] - 57s 3ms/step - loss: 5.2658e-04 - accuracy: 0.9988 - val_loss: 3.5503e-04 - val_accuracy: 0.9993 - lr: 1.0000e-04\n",
      "Epoch 19/30\n",
      "16570/16570 [==============================] - 55s 3ms/step - loss: 5.2273e-04 - accuracy: 0.9989 - val_loss: 4.1938e-04 - val_accuracy: 0.9990 - lr: 1.0000e-04\n",
      "Epoch 20/30\n",
      "16570/16570 [==============================] - 58s 3ms/step - loss: 5.0252e-04 - accuracy: 0.9989 - val_loss: 4.0098e-04 - val_accuracy: 0.9992 - lr: 1.0000e-04\n",
      "Epoch 21/30\n",
      "16570/16570 [==============================] - 57s 3ms/step - loss: 4.9361e-04 - accuracy: 0.9989 - val_loss: 3.5301e-04 - val_accuracy: 0.9993 - lr: 1.0000e-04\n",
      "Epoch 22/30\n",
      "16570/16570 [==============================] - 57s 3ms/step - loss: 4.8427e-04 - accuracy: 0.9990 - val_loss: 6.3441e-04 - val_accuracy: 0.9985 - lr: 1.0000e-04\n",
      "Epoch 23/30\n",
      "16570/16570 [==============================] - 56s 3ms/step - loss: 4.7185e-04 - accuracy: 0.9990 - val_loss: 5.1051e-04 - val_accuracy: 0.9988 - lr: 1.0000e-04\n",
      "Epoch 24/30\n",
      "16570/16570 [==============================] - 56s 3ms/step - loss: 4.7590e-04 - accuracy: 0.9990 - val_loss: 2.7984e-04 - val_accuracy: 0.9995 - lr: 1.0000e-04\n",
      "Epoch 25/30\n",
      "16570/16570 [==============================] - 56s 3ms/step - loss: 4.5911e-04 - accuracy: 0.9990 - val_loss: 4.0377e-04 - val_accuracy: 0.9992 - lr: 1.0000e-04\n",
      "Epoch 26/30\n",
      "16570/16570 [==============================] - 56s 3ms/step - loss: 4.4596e-04 - accuracy: 0.9990 - val_loss: 2.9872e-04 - val_accuracy: 0.9994 - lr: 1.0000e-04\n",
      "Epoch 27/30\n",
      "16570/16570 [==============================] - 54s 3ms/step - loss: 4.3543e-04 - accuracy: 0.9991 - val_loss: 3.4526e-04 - val_accuracy: 0.9993 - lr: 1.0000e-04\n",
      "Epoch 28/30\n",
      "16570/16570 [==============================] - 56s 3ms/step - loss: 4.4006e-04 - accuracy: 0.9991 - val_loss: 3.8016e-04 - val_accuracy: 0.9991 - lr: 1.0000e-04\n",
      "Epoch 29/30\n",
      "16570/16570 [==============================] - 55s 3ms/step - loss: 4.2444e-04 - accuracy: 0.9991 - val_loss: 2.9131e-04 - val_accuracy: 0.9994 - lr: 1.0000e-04\n",
      "Epoch 30/30\n",
      "16570/16570 [==============================] - 56s 3ms/step - loss: 4.2241e-04 - accuracy: 0.9991 - val_loss: 7.5322e-04 - val_accuracy: 0.9980 - lr: 1.0000e-04\n"
     ]
    }
   ],
   "source": [
    "from tensorflow.keras.callbacks import EarlyStopping\n",
    "\n",
    "\n",
    "# Simple 3 Layer Dense Model\n",
    "model = Sequential()\n",
    "model.add(Dense(128, input_dim=_features, activation='relu'))\n",
    "model.add(Dropout(0.1))\n",
    "\n",
    "model.add(Dense(256, activation='relu'))\n",
    "model.add(Dropout(0.1))\n",
    "model.add(Dense(128, activation='relu'))\n",
    "model.add(Dropout(0.1))\n",
    "model.add(Dense(256, activation='relu'))\n",
    "model.add(Dropout(0.1))\n",
    "\n",
    "model.add(Dense(n_classes, kernel_initializer='normal'))\n",
    "model.add(Dense(n_classes, activation = 'softmax'))\n",
    "model.summary() \n",
    "\n",
    "opt = keras.optimizers.Adam(learning_rate=0.0001)\n",
    "model.compile(loss='BinaryCrossentropy', optimizer=opt, metrics=['accuracy'])\n",
    "\n",
    "early_stop_callback = keras.callbacks.EarlyStopping(monitor='loss', patience=5)\n",
    "reduce_lr = keras.callbacks.ReduceLROnPlateau(monitor='val_loss', factor=0.2,\n",
    "                                  patience=3, min_lr=0.001)\n",
    "    \n",
    "history = model.fit(X_train, Y_train,\n",
    "                              batch_size=128,\n",
    "                              epochs=30,\n",
    "                              verbose=True,\n",
    "                              validation_data=(X_test, Y_test))"
   ]
  },
  {
   "cell_type": "code",
   "execution_count": 26,
   "id": "c2d0e7ce",
   "metadata": {},
   "outputs": [],
   "source": [
    "#model.save('H:/Datasets/CIC-IDS2017/model_dnn.h5')"
   ]
  },
  {
   "cell_type": "code",
   "execution_count": 27,
   "id": "ae93f658",
   "metadata": {},
   "outputs": [
    {
     "name": "stdout",
     "output_type": "stream",
     "text": [
      "22093/22093 [==============================] - 33s 1ms/step - loss: 7.5317e-04 - accuracy: 0.9980\n",
      "22093/22093 [==============================] - 18s 831us/step\n",
      "Inference time: 29.05 seconds\n"
     ]
    },
    {
     "name": "stderr",
     "output_type": "stream",
     "text": [
      "C:\\Users\\Maruata\\anaconda3\\lib\\site-packages\\sklearn\\metrics\\_classification.py:1318: UndefinedMetricWarning: Precision is ill-defined and being set to 0.0 in labels with no predicted samples. Use `zero_division` parameter to control this behavior.\n",
      "  _warn_prf(average, modifier, msg_start, len(result))\n"
     ]
    },
    {
     "name": "stdout",
     "output_type": "stream",
     "text": [
      "Completed\n",
      "Time taken: 0:01:03.583760\n",
      "Validation score: 0.9980168861718124\n",
      "Evaluation score: [0.0007531748851761222, 0.998016893863678]\n",
      "Recall score: 0.9980168861718124\n",
      "Precision score: 0.9980212462731757\n",
      "F1 Measure score: 0.9980112750341071\n",
      "ROC-AUC score: 0.9537802936169648\n"
     ]
    }
   ],
   "source": [
    "import datetime as dt\n",
    "from sklearn.metrics import accuracy_score, confusion_matrix, precision_score, recall_score, f1_score, roc_auc_score\n",
    "from sklearn import preprocessing\n",
    "import time\n",
    "\n",
    "start = dt.datetime.now()\n",
    "\n",
    "escore = model.evaluate(X_test, Y_test, batch_size=32)\n",
    "\n",
    "\n",
    "# Measure inference time\n",
    "start_time = time.time()\n",
    "pred = model.predict(X_test)\n",
    "end_time = time.time()\n",
    "\n",
    "inference_time = end_time - start_time\n",
    "print(\"Inference time: {:.2f} seconds\".format(inference_time))\n",
    "\n",
    "\n",
    "\n",
    "pred = np.argmax(pred,axis=1)\n",
    "y_eval = np.argmax(Y_test,axis=1)\n",
    "\n",
    "score = metrics.accuracy_score(y_eval, pred)\n",
    "rscore = recall_score(y_eval, pred, average='weighted')\n",
    "ascore = precision_score(y_eval, pred, average='weighted')\n",
    "f1score= f1_score(y_eval, pred, average='weighted') #F1 = 2 * (precision * recall) / (precision + recall) for manual\n",
    "\n",
    "lb = preprocessing.LabelBinarizer()\n",
    "lb.fit(y_eval)\n",
    "y_eval = lb.transform(y_eval)\n",
    "pred = lb.transform(pred)\n",
    "roc_score = roc_auc_score(y_eval, pred)\n",
    "#roc_auc_socre = multiclass_roc_auc_score(y_eval, pred)\n",
    "\n",
    "print('Completed')\n",
    "print('Time taken:',dt.datetime.now()-start)\n",
    "\n",
    "print(\"Validation score: {}\".format(score))\n",
    "print(\"Evaluation score: {}\".format(escore))\n",
    "print(\"Recall score: {}\".format(rscore))\n",
    "print(\"Precision score: {}\".format(ascore))\n",
    "print(\"F1 Measure score: {}\".format(f1score))\n",
    "print(\"ROC-AUC score: {}\".format(roc_score))"
   ]
  },
  {
   "cell_type": "code",
   "execution_count": 28,
   "id": "d4ea0644",
   "metadata": {},
   "outputs": [],
   "source": [
    "# Plot for training and validation loss\n",
    "history_dict = history.history\n",
    "loss_values = history_dict['loss']\n",
    "val_loss_values = history_dict['val_loss']\n",
    "acc = history_dict['accuracy']\n",
    "val_acc = history_dict['val_accuracy']"
   ]
  },
  {
   "cell_type": "code",
   "execution_count": 29,
   "id": "3b187933",
   "metadata": {},
   "outputs": [
    {
     "name": "stdout",
     "output_type": "stream",
     "text": [
      "22093/22093 [==============================] - 19s 838us/step\n"
     ]
    }
   ],
   "source": [
    "pred = model.predict(X_test)\n",
    "pred = np.argmax(pred,axis=1)\n",
    "y_test = Y_test.argmax(axis=1)"
   ]
  },
  {
   "cell_type": "code",
   "execution_count": 30,
   "id": "106a0e35",
   "metadata": {},
   "outputs": [
    {
     "data": {
      "text/plain": [
       "(706969,)"
      ]
     },
     "execution_count": 30,
     "metadata": {},
     "output_type": "execute_result"
    }
   ],
   "source": [
    "pred.shape\n",
    "y_test.shape"
   ]
  },
  {
   "cell_type": "code",
   "execution_count": 31,
   "id": "ef19f339",
   "metadata": {},
   "outputs": [
    {
     "data": {
      "text/plain": [
       "array([[567577,      2,     13,     18,     75,      8,      2,      3,\n",
       "             0,      5,     13,      5,     31,      0,     16],\n",
       "       [    10,    469,      0,      0,      0,      0,      0,      0,\n",
       "             0,      0,      0,      0,      0,      0,      0],\n",
       "       [    10,      0,  32109,      0,      0,      0,      0,      0,\n",
       "             0,      0,      0,      0,      0,      0,      0],\n",
       "       [     5,      0,      0,   2569,     13,      1,      0,      0,\n",
       "             0,      0,      0,      0,      0,      0,      0],\n",
       "       [  1073,      0,      0,      1,  56373,      0,      0,      0,\n",
       "             0,      0,      0,      0,      0,      0,      0],\n",
       "       [     5,      0,      0,      1,      0,   1347,      8,      0,\n",
       "             0,      0,      0,      0,      0,      0,      0],\n",
       "       [     6,      0,      0,      1,      0,      0,   1433,      0,\n",
       "             0,      0,      0,      0,      0,      0,      0],\n",
       "       [    10,      0,      0,      0,      0,      0,      0,   1945,\n",
       "             0,      0,      0,      0,      0,      0,      0],\n",
       "       [     0,      0,      0,      0,      0,      0,      0,      0,\n",
       "             1,      0,      0,      0,      0,      0,      0],\n",
       "       [     2,      0,      0,      0,      0,      0,      0,      0,\n",
       "             0,      7,      0,      0,      0,      0,      0],\n",
       "       [    20,      0,      0,      0,      0,      0,      0,      0,\n",
       "             0,      0,  39757,      0,      0,      0,      0],\n",
       "       [    26,      0,      0,      0,      0,      0,      1,      0,\n",
       "             0,      0,      0,   1431,      0,      0,      0],\n",
       "       [     4,      0,      0,      0,      0,      0,      0,      0,\n",
       "             0,      0,      0,      0,    393,      0,      4],\n",
       "       [     1,      0,      0,      0,      0,      0,      0,      0,\n",
       "             0,      0,      0,      0,      1,      0,      0],\n",
       "       [     6,      0,      0,      0,      0,      0,      0,      0,\n",
       "             0,      0,      0,      0,      2,      0,    156]],\n",
       "      dtype=int64)"
      ]
     },
     "execution_count": 31,
     "metadata": {},
     "output_type": "execute_result"
    }
   ],
   "source": [
    "from sklearn.metrics import confusion_matrix, precision_score, recall_score\n",
    "import seaborn as sn\n",
    "\n",
    "confMat = confusion_matrix(y_test, pred)\n",
    "confMat"
   ]
  },
  {
   "cell_type": "code",
   "execution_count": null,
   "id": "ebbd5490",
   "metadata": {},
   "outputs": [],
   "source": []
  },
  {
   "cell_type": "code",
   "execution_count": 34,
   "id": "b53deb25",
   "metadata": {},
   "outputs": [],
   "source": [
    "start_by_epoch = 1\n",
    "epochs = range(start_by_epoch, len(loss_values) + 1)"
   ]
  },
  {
   "cell_type": "code",
   "execution_count": null,
   "id": "e07d3ee9",
   "metadata": {},
   "outputs": [],
   "source": [
    "plt.plot(epochs, acc[start_by_epoch-1:], label='Training accuracy')\n",
    "plt.plot(epochs, val_acc[start_by_epoch-1:], label='Validation accuracy')\n",
    "plt.title('DNN: Training and validation accuracy')\n",
    "plt.xlabel('Epochs')\n",
    "plt.ylabel('Accuracy')\n",
    "plt.legend(['Training', 'Test'], loc='lower right')\n",
    "\n",
    "plt.show()\n",
    "plt.clf()"
   ]
  },
  {
   "cell_type": "code",
   "execution_count": null,
   "id": "731227b0",
   "metadata": {},
   "outputs": [],
   "source": [
    "#plt.subplot(212)\n",
    "\n",
    "plt.plot(epochs, loss_values[start_by_epoch-1:], label='Training Loss')\n",
    "plt.plot(epochs, val_loss_values[start_by_epoch-1:], label='Validation Loss')\n",
    "plt.title('DNN: Training and validation loss')\n",
    "plt.xlabel('Epochs')\n",
    "plt.ylabel('Loss')\n",
    "plt.legend(['Training', 'Validation'], loc='upper right')\n",
    "\n",
    "plt.tight_layout()\n",
    "\n",
    "plt.show()\n",
    "plt.clf()"
   ]
  },
  {
   "cell_type": "code",
   "execution_count": null,
   "id": "e62c5201",
   "metadata": {},
   "outputs": [],
   "source": [
    "pd.DataFrame(history.history).plot(figsize=(8,5))\n",
    "plt.grid(True)\n",
    "plt.gca().set_ylim(-0.02,1.02)\n",
    "plt.title('DNN: Training and Validation Rate')\n",
    "plt.xlabel('Epochs')\n",
    "plt.ylabel('Score')\n",
    "plt.show()"
   ]
  },
  {
   "cell_type": "code",
   "execution_count": null,
   "id": "8747e06b",
   "metadata": {},
   "outputs": [],
   "source": [
    "cm_df = pd.DataFrame(confMat)\n",
    "\n",
    "labels = ['Benign','DoS Hulk','Port Scan','DDoS','DoS Golden Eye','FTP Patator','SSH Patator','DoS slowloris',\n",
    "          'DoS slowhttptest','Bot','Web Attack - Brute Force','Web Attack - XSS','Infiltration','Web Attack - Sql Injection',\n",
    "         'Heartbleed']\n",
    "\n",
    "plt.figure(figsize=(20,15))\n",
    "sn.set(font_scale=1.4)\n",
    "sn.heatmap(cm_df, annot=True, annot_kws={\"size\":12}, fmt='g', xticklabels=labels, yticklabels=labels, cmap='Blues')\n",
    "\n",
    "#sn.heatmap(cm_df, annot=True, annot_kws={\"size\":12}, fmt='g', xticklabels=labels, yticklabels=labels)\n",
    "plt.ylabel('Actual Class')\n",
    "plt.xlabel('Predicted Class')\n",
    "    \n",
    "plt.show()  "
   ]
  },
  {
   "cell_type": "code",
   "execution_count": null,
   "id": "c03fae70",
   "metadata": {},
   "outputs": [],
   "source": []
  },
  {
   "cell_type": "markdown",
   "id": "ca2eed92",
   "metadata": {},
   "source": [
    "# CNN Model"
   ]
  },
  {
   "cell_type": "code",
   "execution_count": 24,
   "id": "cdad246e",
   "metadata": {},
   "outputs": [
    {
     "name": "stdout",
     "output_type": "stream",
     "text": [
      "Model: \"sequential\"\n",
      "_________________________________________________________________\n",
      " Layer (type)                Output Shape              Param #   \n",
      "=================================================================\n",
      " conv1d (Conv1D)             (None, 80, 128)           896       \n",
      "                                                                 \n",
      " max_pooling1d (MaxPooling1D  (None, 40, 128)          0         \n",
      " )                                                               \n",
      "                                                                 \n",
      " conv1d_1 (Conv1D)           (None, 40, 256)           196864    \n",
      "                                                                 \n",
      " max_pooling1d_1 (MaxPooling  (None, 20, 256)          0         \n",
      " 1D)                                                             \n",
      "                                                                 \n",
      " flatten (Flatten)           (None, 5120)              0         \n",
      "                                                                 \n",
      " dense (Dense)               (None, 256)               1310976   \n",
      "                                                                 \n",
      " dropout (Dropout)           (None, 256)               0         \n",
      "                                                                 \n",
      " dense_1 (Dense)             (None, 15)                3855      \n",
      "                                                                 \n",
      " dense_2 (Dense)             (None, 15)                240       \n",
      "                                                                 \n",
      "=================================================================\n",
      "Total params: 1,512,831\n",
      "Trainable params: 1,512,831\n",
      "Non-trainable params: 0\n",
      "_________________________________________________________________\n",
      "Epoch 1/30\n",
      "16570/16570 [==============================] - 70s 4ms/step - loss: 0.0439 - accuracy: 0.9880 - val_loss: 0.0116 - val_accuracy: 0.9965\n",
      "Epoch 2/30\n",
      "16570/16570 [==============================] - 67s 4ms/step - loss: 0.0108 - accuracy: 0.9965 - val_loss: 0.0073 - val_accuracy: 0.9974\n",
      "Epoch 3/30\n",
      "16570/16570 [==============================] - 67s 4ms/step - loss: 0.0071 - accuracy: 0.9977 - val_loss: 0.0049 - val_accuracy: 0.9982\n",
      "Epoch 4/30\n",
      "16570/16570 [==============================] - 67s 4ms/step - loss: 0.0061 - accuracy: 0.9982 - val_loss: 0.0060 - val_accuracy: 0.9968\n",
      "Epoch 5/30\n",
      "16570/16570 [==============================] - 67s 4ms/step - loss: 0.0049 - accuracy: 0.9984 - val_loss: 0.0049 - val_accuracy: 0.9984\n",
      "Epoch 6/30\n",
      "16570/16570 [==============================] - 67s 4ms/step - loss: 0.0047 - accuracy: 0.9986 - val_loss: 0.0042 - val_accuracy: 0.9986\n",
      "Epoch 7/30\n",
      "16570/16570 [==============================] - 68s 4ms/step - loss: 0.0041 - accuracy: 0.9987 - val_loss: 0.0033 - val_accuracy: 0.9988\n",
      "Epoch 8/30\n",
      "16570/16570 [==============================] - 69s 4ms/step - loss: 0.0039 - accuracy: 0.9988 - val_loss: 0.0033 - val_accuracy: 0.9987\n",
      "Epoch 9/30\n",
      "16570/16570 [==============================] - 67s 4ms/step - loss: 0.0036 - accuracy: 0.9989 - val_loss: 0.0036 - val_accuracy: 0.9988\n",
      "Epoch 10/30\n",
      "16570/16570 [==============================] - 69s 4ms/step - loss: 0.0035 - accuracy: 0.9990 - val_loss: 0.0023 - val_accuracy: 0.9992\n",
      "Epoch 11/30\n",
      "16570/16570 [==============================] - 71s 4ms/step - loss: 0.0032 - accuracy: 0.9991 - val_loss: 0.0021 - val_accuracy: 0.9994\n",
      "Epoch 12/30\n",
      "16570/16570 [==============================] - 71s 4ms/step - loss: 0.0030 - accuracy: 0.9991 - val_loss: 0.0026 - val_accuracy: 0.9993\n",
      "Epoch 13/30\n",
      "16570/16570 [==============================] - 70s 4ms/step - loss: 0.0029 - accuracy: 0.9992 - val_loss: 0.0020 - val_accuracy: 0.9994\n",
      "Epoch 14/30\n",
      "16570/16570 [==============================] - 72s 4ms/step - loss: 0.0026 - accuracy: 0.9992 - val_loss: 0.0025 - val_accuracy: 0.9991\n",
      "Epoch 15/30\n",
      "16570/16570 [==============================] - 72s 4ms/step - loss: 0.0024 - accuracy: 0.9993 - val_loss: 0.0049 - val_accuracy: 0.9977\n",
      "Epoch 16/30\n",
      "16570/16570 [==============================] - 72s 4ms/step - loss: 0.0023 - accuracy: 0.9993 - val_loss: 0.0019 - val_accuracy: 0.9994\n",
      "Epoch 17/30\n",
      "16570/16570 [==============================] - 72s 4ms/step - loss: 0.0022 - accuracy: 0.9994 - val_loss: 0.0022 - val_accuracy: 0.9993\n",
      "Epoch 18/30\n",
      "16570/16570 [==============================] - 72s 4ms/step - loss: 0.0021 - accuracy: 0.9994 - val_loss: 0.0015 - val_accuracy: 0.9996\n",
      "Epoch 19/30\n",
      "16570/16570 [==============================] - 73s 4ms/step - loss: 0.0021 - accuracy: 0.9994 - val_loss: 0.0017 - val_accuracy: 0.9996\n",
      "Epoch 20/30\n",
      "16570/16570 [==============================] - 68s 4ms/step - loss: 0.0021 - accuracy: 0.9994 - val_loss: 0.0015 - val_accuracy: 0.9995\n",
      "Epoch 21/30\n",
      "16570/16570 [==============================] - 69s 4ms/step - loss: 0.0020 - accuracy: 0.9994 - val_loss: 0.0018 - val_accuracy: 0.9995\n",
      "Epoch 22/30\n",
      "16570/16570 [==============================] - 70s 4ms/step - loss: 0.0019 - accuracy: 0.9994 - val_loss: 0.0028 - val_accuracy: 0.9993\n",
      "Epoch 23/30\n",
      "16570/16570 [==============================] - 70s 4ms/step - loss: 0.0020 - accuracy: 0.9995 - val_loss: 0.0016 - val_accuracy: 0.9996\n",
      "Epoch 24/30\n",
      "16570/16570 [==============================] - 71s 4ms/step - loss: 0.0019 - accuracy: 0.9995 - val_loss: 0.0014 - val_accuracy: 0.9996\n",
      "Epoch 25/30\n",
      "16570/16570 [==============================] - 71s 4ms/step - loss: 0.0018 - accuracy: 0.9995 - val_loss: 0.0021 - val_accuracy: 0.9993\n",
      "Epoch 26/30\n",
      "16570/16570 [==============================] - 72s 4ms/step - loss: 0.0018 - accuracy: 0.9995 - val_loss: 0.0014 - val_accuracy: 0.9996\n",
      "Epoch 27/30\n",
      "16570/16570 [==============================] - 70s 4ms/step - loss: 0.0019 - accuracy: 0.9995 - val_loss: 0.0015 - val_accuracy: 0.9996\n",
      "Epoch 28/30\n",
      "16570/16570 [==============================] - 68s 4ms/step - loss: 0.0017 - accuracy: 0.9995 - val_loss: 0.0012 - val_accuracy: 0.9997\n",
      "Epoch 29/30\n",
      "16570/16570 [==============================] - 67s 4ms/step - loss: 0.0017 - accuracy: 0.9995 - val_loss: 0.0016 - val_accuracy: 0.9995\n",
      "Epoch 30/30\n",
      "16570/16570 [==============================] - 67s 4ms/step - loss: 0.0019 - accuracy: 0.9995 - val_loss: 0.0015 - val_accuracy: 0.9996\n"
     ]
    }
   ],
   "source": [
    "# In order to ignore FutureWarning\n",
    "import warnings\n",
    "warnings.simplefilter(action='ignore', category=FutureWarning)\n",
    "warnings.simplefilter(action='ignore', category=DeprecationWarning)\n",
    "\n",
    "from keras.models import Sequential\n",
    "from keras import callbacks\n",
    "from keras.layers import Dense, Activation, Flatten, Convolution1D, MaxPooling1D, Dropout\n",
    "from sklearn import metrics\n",
    "\n",
    "\n",
    "X_train = X_train.reshape(X_train.shape[0], 80, 1).astype('float32')\n",
    "X_test = X_test.reshape(X_test.shape[0], 80, 1).astype('float32')\n",
    "\n",
    "\n",
    "# CNN Model\n",
    "model = Sequential()\n",
    "model.add(Convolution1D(filters=128, kernel_size=6, padding=\"same\", activation=\"relu\", input_shape=(_features, 1)))\n",
    "model.add(MaxPooling1D(pool_size=2))\n",
    "model.add(Convolution1D(filters=256, kernel_size=6, padding=\"same\", activation=\"relu\"))\n",
    "model.add(MaxPooling1D(pool_size=2))\n",
    "\n",
    "model.add(Flatten())\n",
    "\n",
    "model.add(Dense(256, activation='relu'))\n",
    "model.add(Dropout(0.1))\n",
    "\n",
    "model.add(Dense(n_classes, kernel_initializer='normal'))\n",
    "model.add(Dense(n_classes, activation = 'softmax'))\n",
    "\n",
    "model.summary() \n",
    "\n",
    "opt = keras.optimizers.Adam(learning_rate=0.0001)\n",
    "model.compile(loss='categorical_crossentropy',optimizer=opt, metrics=['accuracy'])\n",
    "\n",
    "early_stop_callback = keras.callbacks.EarlyStopping(monitor='loss', patience=5)\n",
    "reduce_lr = keras.callbacks.ReduceLROnPlateau(monitor='val_loss', factor=0.2,\n",
    "                                  patience=3, min_lr=0.0001)\n",
    "    \n",
    "history = model.fit(X_train, Y_train,\n",
    "                              batch_size=128,\n",
    "                              epochs=30,\n",
    "                              verbose=True,\n",
    "                              validation_data=(X_test, Y_test))  "
   ]
  },
  {
   "cell_type": "code",
   "execution_count": 25,
   "id": "cd8ae239",
   "metadata": {},
   "outputs": [
    {
     "name": "stdout",
     "output_type": "stream",
     "text": [
      "22093/22093 [==============================] - 22s 999us/step\n",
      "Best loss: 0.0012017065891996026\n",
      "Balanced Acc loss: 94.51614007074708\n"
     ]
    }
   ],
   "source": [
    "#y_pred = model.predict_classes(X_test)\n",
    "y_pred = np.argmax(model.predict(X_test), axis=-1)\n",
    "balanced_score = metrics.balanced_accuracy_score(np.argmax(Y_test, axis=1), y_pred) * 100\n",
    "    \n",
    "best_loss = np.amin(history.history['val_loss']) \n",
    "print('Best loss: {}'.format(best_loss))\n",
    "print('Balanced Acc loss: {}'.format(balanced_score))  \n",
    "\n",
    "#model.save('H:/Datasets/CIC-IDS2017/model_cnn.h5')"
   ]
  },
  {
   "cell_type": "code",
   "execution_count": 26,
   "id": "eb24d03e",
   "metadata": {},
   "outputs": [
    {
     "name": "stdout",
     "output_type": "stream",
     "text": [
      "22093/22093 [==============================] - 40s 2ms/step - loss: 0.0015 - accuracy: 0.9996\n",
      "22093/22093 [==============================] - 23s 1ms/step\n",
      "Inference time: 29.36 seconds\n",
      "Completed\n",
      "Time taken: 0:01:10.569646\n",
      "Validation score: 0.9995784822248217\n",
      "Evaluation score: [0.0014752219431102276, 0.9995784759521484]\n",
      "Recall score: 0.9995784822248217\n",
      "Precision score: 0.9995879832599394\n",
      "F1 Measure score: 0.99958129446439\n",
      "ROC-AUC score: 0.9725555724105255\n"
     ]
    }
   ],
   "source": [
    "import datetime as dt\n",
    "from sklearn.metrics import accuracy_score, confusion_matrix, precision_score, recall_score, f1_score, roc_auc_score\n",
    "from sklearn import preprocessing\n",
    "import time\n",
    "\n",
    "start = dt.datetime.now()\n",
    "\n",
    "escore = model.evaluate(X_test, Y_test, batch_size=32)\n",
    "\n",
    "# Measure inference time\n",
    "start_time = time.time()\n",
    "pred = model.predict(X_test)\n",
    "end_time = time.time()\n",
    "\n",
    "inference_time = end_time - start_time\n",
    "print(\"Inference time: {:.2f} seconds\".format(inference_time))\n",
    "\n",
    "\n",
    "pred = np.argmax(pred,axis=1)\n",
    "y_eval = np.argmax(Y_test,axis=1)\n",
    "\n",
    "score = metrics.accuracy_score(y_eval, pred)\n",
    "rscore = recall_score(y_eval, pred, average='weighted')\n",
    "ascore = precision_score(y_eval, pred, average='weighted')\n",
    "f1score= f1_score(y_eval, pred, average='weighted') #F1 = 2 * (precision * recall) / (precision + recall) for manual\n",
    "\n",
    "lb = preprocessing.LabelBinarizer()\n",
    "lb.fit(y_eval)\n",
    "y_eval = lb.transform(y_eval)\n",
    "pred = lb.transform(pred)\n",
    "roc_score = roc_auc_score(y_eval, pred)\n",
    "#roc_auc_socre = multiclass_roc_auc_score(y_eval, pred)\n",
    "\n",
    "print('Completed')\n",
    "print('Time taken:',dt.datetime.now()-start)\n",
    "\n",
    "print(\"Validation score: {}\".format(score))\n",
    "print(\"Evaluation score: {}\".format(escore))\n",
    "print(\"Recall score: {}\".format(rscore))\n",
    "print(\"Precision score: {}\".format(ascore))\n",
    "print(\"F1 Measure score: {}\".format(f1score))\n",
    "print(\"ROC-AUC score: {}\".format(roc_score))"
   ]
  },
  {
   "cell_type": "code",
   "execution_count": 27,
   "id": "317940e5",
   "metadata": {},
   "outputs": [],
   "source": [
    "# Plot for training and validation loss\n",
    "history_dict = history.history\n",
    "loss_values = history_dict['loss']\n",
    "val_loss_values = history_dict['val_loss']\n",
    "acc = history_dict['accuracy']\n",
    "val_acc = history_dict['val_accuracy']"
   ]
  },
  {
   "cell_type": "code",
   "execution_count": 28,
   "id": "d765631f",
   "metadata": {},
   "outputs": [
    {
     "name": "stdout",
     "output_type": "stream",
     "text": [
      "22093/22093 [==============================] - 24s 1ms/step\n"
     ]
    }
   ],
   "source": [
    "pred = model.predict(X_test)\n",
    "pred = np.argmax(pred,axis=1)\n",
    "y_test = Y_test.argmax(axis=1)"
   ]
  },
  {
   "cell_type": "code",
   "execution_count": 29,
   "id": "47279eaf",
   "metadata": {},
   "outputs": [
    {
     "data": {
      "text/plain": [
       "(706969,)"
      ]
     },
     "execution_count": 29,
     "metadata": {},
     "output_type": "execute_result"
    }
   ],
   "source": [
    "pred.shape\n",
    "y_test.shape"
   ]
  },
  {
   "cell_type": "code",
   "execution_count": 30,
   "id": "bf6cbbcf",
   "metadata": {},
   "outputs": [
    {
     "data": {
      "text/plain": [
       "array([[567559,      1,     42,      6,     79,     18,      3,      2,\n",
       "             0,      5,      3,      9,     22,      0,     19],\n",
       "       [     2,    477,      0,      0,      0,      0,      0,      0,\n",
       "             0,      0,      0,      0,      0,      0,      0],\n",
       "       [     0,      0,  32119,      0,      0,      0,      0,      0,\n",
       "             0,      0,      0,      0,      0,      0,      0],\n",
       "       [     1,      0,      0,   2574,     13,      0,      0,      0,\n",
       "             0,      0,      0,      0,      0,      0,      0],\n",
       "       [     3,      0,      0,      0,  57444,      0,      0,      0,\n",
       "             0,      0,      0,      0,      0,      0,      0],\n",
       "       [     3,      0,      0,      0,      1,   1354,      3,      0,\n",
       "             0,      0,      0,      0,      0,      0,      0],\n",
       "       [     2,      0,      0,      0,      1,      0,   1437,      0,\n",
       "             0,      0,      0,      0,      0,      0,      0],\n",
       "       [     7,      0,      0,      0,      0,      0,      0,   1948,\n",
       "             0,      0,      0,      0,      0,      0,      0],\n",
       "       [     0,      0,      0,      0,      0,      0,      0,      0,\n",
       "             1,      0,      0,      0,      0,      0,      0],\n",
       "       [     2,      0,      0,      0,      0,      0,      0,      0,\n",
       "             0,      7,      0,      0,      0,      0,      0],\n",
       "       [    19,      0,      0,      0,      0,      0,      0,      0,\n",
       "             0,      0,  39758,      0,      0,      0,      0],\n",
       "       [     6,      0,      0,      0,      0,      0,      1,      0,\n",
       "             0,      0,      0,   1451,      0,      0,      0],\n",
       "       [     7,      0,      0,      0,      0,      0,      0,      0,\n",
       "             0,      0,      0,      0,    381,      0,     13],\n",
       "       [     0,      0,      0,      0,      0,      0,      0,      0,\n",
       "             0,      0,      0,      0,      0,      1,      1],\n",
       "       [     3,      0,      0,      0,      0,      0,      0,      0,\n",
       "             0,      0,      0,      0,      1,      0,    160]],\n",
       "      dtype=int64)"
      ]
     },
     "execution_count": 30,
     "metadata": {},
     "output_type": "execute_result"
    }
   ],
   "source": [
    "from sklearn.metrics import confusion_matrix, precision_score, recall_score\n",
    "import seaborn as sn\n",
    "\n",
    "confMat = confusion_matrix(y_test, pred)\n",
    "confMat"
   ]
  },
  {
   "cell_type": "code",
   "execution_count": null,
   "id": "f10451bf",
   "metadata": {},
   "outputs": [],
   "source": [
    "cf_matrix = confMat\n",
    "plt.figure(figsize=(20,15))\n",
    "sn.set(font_scale=1.4)\n",
    "\n",
    "labels = ['Benign','DoS Hulk','Port Scan','DDoS','DoS Golden Eye','FTP Patator','SSH Patator','DoS slowloris',\n",
    "          'DoS slowhttptest','Bot','Web Attack - Brute Force','Web Attack - XSS','Infiltration','Web Attack - Sql Injection',\n",
    "         'Heartbleed']\n",
    "\n",
    "sn.heatmap(cf_matrix / np.sum(cf_matrix), annot=True, fmt='.2%', xticklabels=labels, yticklabels=labels, cmap='Blues')"
   ]
  },
  {
   "cell_type": "code",
   "execution_count": null,
   "id": "e56e1b14",
   "metadata": {},
   "outputs": [],
   "source": [
    "cf_matrix = confMat\n",
    "cm_df = pd.DataFrame(cf_matrix)\n",
    "\n",
    "labels = ['Benign','DoS Hulk','Port Scan','DDoS','DoS Golden Eye','FTP Patator','SSH Patator','DoS slowloris',\n",
    "          'DoS slowhttptest','Bot','Web Attack - Brute Force','Web Attack - XSS','Infiltration','Web Attack - Sql Injection',\n",
    "         'Heartbleed']\n",
    "\n",
    "plt.figure(figsize=(20,15))\n",
    "sn.set(font_scale=1.4)\n",
    "sn.heatmap(cm_df, annot=True, annot_kws={\"size\":12}, xticklabels=labels, yticklabels=labels, cmap='Blues')\n",
    "\n",
    "#sn.heatmap(cm_df, annot=True, annot_kws={\"size\":12}, fmt='g', xticklabels=labels, yticklabels=labels)\n",
    "plt.ylabel('Actual Class')\n",
    "plt.xlabel('Predicted Class')\n",
    "    \n",
    "plt.show() "
   ]
  },
  {
   "cell_type": "code",
   "execution_count": 33,
   "id": "30a34476",
   "metadata": {},
   "outputs": [],
   "source": [
    "start_by_epoch = 1\n",
    "epochs = range(start_by_epoch, len(loss_values) + 1)"
   ]
  },
  {
   "cell_type": "code",
   "execution_count": null,
   "id": "a798e21d",
   "metadata": {},
   "outputs": [],
   "source": [
    "plt.plot(epochs, acc[start_by_epoch-1:], label='Training accuracy')\n",
    "plt.plot(epochs, val_acc[start_by_epoch-1:], label='Validation accuracy')\n",
    "plt.title('CNN: Training and validation accuracy')\n",
    "plt.xlabel('Epochs')\n",
    "plt.ylabel('Accuracy')\n",
    "plt.legend(['Training', 'Test'], loc='lower right')\n",
    "\n",
    "plt.show()\n",
    "plt.clf()"
   ]
  },
  {
   "cell_type": "code",
   "execution_count": null,
   "id": "95aebf34",
   "metadata": {},
   "outputs": [],
   "source": [
    "#plt.subplot(212)\n",
    "\n",
    "plt.plot(epochs, loss_values[start_by_epoch-1:], label='Training Loss')\n",
    "plt.plot(epochs, val_loss_values[start_by_epoch-1:], label='Validation Loss')\n",
    "plt.title('CNN: Training and validation loss')\n",
    "plt.xlabel('Epochs')\n",
    "plt.ylabel('Loss')\n",
    "plt.legend(['Training', 'Validation'], loc='upper right')\n",
    "\n",
    "plt.tight_layout()\n",
    "\n",
    "plt.show()\n",
    "plt.clf()"
   ]
  },
  {
   "cell_type": "code",
   "execution_count": null,
   "id": "2fb8d6b4",
   "metadata": {},
   "outputs": [],
   "source": [
    "pd.DataFrame(history.history).plot(figsize=(8,5))\n",
    "plt.grid(True)\n",
    "plt.gca().set_ylim(0,1)\n",
    "plt.title('CNN: Training and Validation Rate')\n",
    "plt.xlabel('Epochs')\n",
    "plt.ylabel('Score')\n",
    "plt.show()"
   ]
  },
  {
   "cell_type": "code",
   "execution_count": null,
   "id": "931b469e",
   "metadata": {},
   "outputs": [],
   "source": []
  },
  {
   "cell_type": "code",
   "execution_count": 37,
   "id": "f833aef9",
   "metadata": {},
   "outputs": [
    {
     "name": "stdout",
     "output_type": "stream",
     "text": [
      "22093/22093 [==============================] - 19s 877us/step\n"
     ]
    }
   ],
   "source": [
    "pred = model.predict(X_test)\n",
    "pred = np.argmax(pred,axis=1)\n",
    "y_test = Y_test.argmax(axis=1)"
   ]
  },
  {
   "cell_type": "code",
   "execution_count": 38,
   "id": "d4edebdc",
   "metadata": {},
   "outputs": [
    {
     "data": {
      "text/plain": [
       "(706969,)"
      ]
     },
     "execution_count": 38,
     "metadata": {},
     "output_type": "execute_result"
    }
   ],
   "source": [
    "pred.shape\n",
    "y_test.shape"
   ]
  },
  {
   "cell_type": "code",
   "execution_count": null,
   "id": "e6572733",
   "metadata": {},
   "outputs": [],
   "source": [
    "from sklearn.metrics import confusion_matrix, precision_score, recall_score\n",
    "import seaborn as sn\n",
    "\n",
    "confMat = confusion_matrix(y_test, pred)\n",
    "confMat"
   ]
  },
  {
   "cell_type": "code",
   "execution_count": null,
   "id": "50181375",
   "metadata": {},
   "outputs": [],
   "source": [
    "cf_matrix = confusion_matrix(y_test, pred)\n",
    "cm_df = pd.DataFrame(cf_matrix)\n",
    "\n",
    "labels = ['Benign','DoS Hulk','Port Scan','DDoS','DoS Golden Eye','FTP Patator','SSH Patator','DoS slowloris',\n",
    "          'DoS slowhttptest','Bot','Web Attack - Brute Force','Web Attack - XSS','Infiltration','Web Attack - Sql Injection',\n",
    "         'Heartbleed']\n",
    "\n",
    "plt.figure(figsize=(20,15))\n",
    "sn.set(font_scale=1.4)\n",
    "sn.heatmap(cm_df, annot=True, annot_kws={\"size\":12}, fmt='g', xticklabels=labels, yticklabels=labels, cmap='Blues')\n",
    "\n",
    "#sn.heatmap(cm_df, annot=True, annot_kws={\"size\":12}, fmt='g', xticklabels=labels, yticklabels=labels)\n",
    "plt.ylabel('Actual Class')\n",
    "plt.xlabel('Predicted Class')\n",
    "    \n",
    "plt.show()  "
   ]
  },
  {
   "cell_type": "code",
   "execution_count": null,
   "id": "30a586f7",
   "metadata": {},
   "outputs": [],
   "source": []
  },
  {
   "cell_type": "code",
   "execution_count": null,
   "id": "5619514b",
   "metadata": {},
   "outputs": [],
   "source": []
  }
 ],
 "metadata": {
  "kernelspec": {
   "display_name": "Python 3 (ipykernel)",
   "language": "python",
   "name": "python3"
  },
  "language_info": {
   "codemirror_mode": {
    "name": "ipython",
    "version": 3
   },
   "file_extension": ".py",
   "mimetype": "text/x-python",
   "name": "python",
   "nbconvert_exporter": "python",
   "pygments_lexer": "ipython3",
   "version": "3.9.12"
  }
 },
 "nbformat": 4,
 "nbformat_minor": 5
}
