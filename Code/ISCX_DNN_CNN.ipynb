{
 "cells": [
  {
   "cell_type": "markdown",
   "id": "20f1cc77",
   "metadata": {},
   "source": [
    "# Preprocessing Data"
   ]
  },
  {
   "cell_type": "markdown",
   "id": "77f6bc11",
   "metadata": {},
   "source": [
    "# Convert to csv Format"
   ]
  },
  {
   "cell_type": "code",
   "execution_count": null,
   "id": "90ab475b",
   "metadata": {},
   "outputs": [],
   "source": [
    "# Importing the required libraries\n",
    "import xml.etree.ElementTree as Xet\n",
    "import pandas as pd\n",
    "import os\n",
    "import numpy as np\n",
    "  \n",
    "cols = [\"appName\", \"totalSourceBytes\", \"totalDestinationBytes\", \"totalDestinationPackets\", \"totalSourcePackets\",\n",
    "       \"sourcePayloadAsBase64\", \"sourcePayloadAsUTF\", \"destinationPayloadAsBase64\", \"destinationPayloadAsUTF\",\n",
    "       \"direction\", \"sourceTCPFlagsDescription\", \"destinationTCPFlagsDescription\", \"source\", \"protocolName\",\n",
    "       \"sourcePort\", \"destination\", \"destinationPort\", \"startDateTime\", \"stopDateTime\", \"Tag\"]\n",
    "rows = []\n",
    "  \n",
    "# Parsing the XML file\n",
    "import_directory = 'H:\\\\Datasets\\\\ISCX_2012\\\\xml\\\\'\n",
    "files = os.listdir(import_directory)\n",
    "df = \"\"\n",
    "for file in files:\n",
    "    print(file)\n",
    "    xmlparse = Xet.parse(import_directory + file)\n",
    "    print('Reading File ', file)\n",
    "    root = xmlparse.getroot()     \n",
    "    for i in root:        \n",
    "        appName = i.find(\"appName\").text\n",
    "        totalSourceBytes = i.find(\"totalSourceBytes\").text\n",
    "        totalDestinationBytes = i.find(\"totalDestinationBytes\").text\n",
    "        totalDestinationPackets = i.find(\"totalDestinationPackets\").text\n",
    "        totalSourcePackets = i.find(\"totalSourcePackets\").text\n",
    "        sourcePayloadAsBase64 = i.find(\"sourcePayloadAsBase64\").text\n",
    "        #sourcePayloadAsUTF = i.find(\"sourcePayloadAsUTF\").text\n",
    "        destinationPayloadAsBase64 = i.find(\"destinationPayloadAsBase64\").text\n",
    "        destinationPayloadAsUTF = i.find(\"destinationPayloadAsUTF\").text\n",
    "        direction = i.find(\"direction\").text\n",
    "        sourceTCPFlagsDescription = i.find(\"sourceTCPFlagsDescription\").text\n",
    "        destinationTCPFlagsDescription = i.find(\"destinationTCPFlagsDescription\").text\n",
    "        source = i.find(\"source\").text\n",
    "        protocolName = i.find(\"protocolName\").text\n",
    "        sourcePort = i.find(\"sourcePort\").text\n",
    "        destination = i.find(\"destination\").text\n",
    "        destinationPort = i.find(\"destinationPort\").text\n",
    "        startDateTime = i.find(\"startDateTime\").text\n",
    "        stopDateTime = i.find(\"stopDateTime\").text\n",
    "        Tag = i.find(\"Tag\").text        \n",
    "        rows.append({\"appName\": appName,\n",
    "                 \"totalSourceBytes\": totalSourceBytes,\n",
    "                 \"totalDestinationBytes\": totalDestinationBytes,\n",
    "                 \"totalDestinationPackets\": totalDestinationPackets,\n",
    "                 \"totalSourcePackets\": totalSourcePackets,\n",
    "                 \"sourcePayloadAsBase64\": sourcePayloadAsBase64,\n",
    "                 #\"sourcePayloadAsUTF\": sourcePayloadAsUTF,\n",
    "                 \"destinationPayloadAsBase64\": destinationPayloadAsBase64,\n",
    "                 \"destinationPayloadAsUTF\": destinationPayloadAsUTF,\n",
    "                 \"direction\": direction,\n",
    "                 \"sourceTCPFlagsDescription\": sourceTCPFlagsDescription,\n",
    "                 \"destinationTCPFlagsDescription\": destinationTCPFlagsDescription,\n",
    "                 \"source\": source,\n",
    "                 \"protocolName\": protocolName,\n",
    "                 \"sourcePort\": sourcePort,\n",
    "                 \"destination\": destination,\n",
    "                 \"destinationPort\": destinationPort,\n",
    "                 \"startDateTime\": startDateTime,\n",
    "                 \"stopDateTime\": stopDateTime,\n",
    "                 \"Tag\": Tag})\n",
    "    df = pd.DataFrame(rows, columns=cols)   \n",
    "    rows.clear()\n",
    "    # Writing dataframe to csv\n",
    "    df.to_csv('H:\\\\Datasets\\\\ISCX_2012\\\\csv\\\\' + file + '.csv')\n"
   ]
  },
  {
   "cell_type": "code",
   "execution_count": null,
   "id": "5ff4e531",
   "metadata": {},
   "outputs": [],
   "source": []
  },
  {
   "cell_type": "code",
   "execution_count": null,
   "id": "f904f569",
   "metadata": {},
   "outputs": [],
   "source": []
  },
  {
   "cell_type": "code",
   "execution_count": null,
   "id": "cf5f89f4",
   "metadata": {},
   "outputs": [],
   "source": []
  },
  {
   "cell_type": "code",
   "execution_count": null,
   "id": "c9f9f8ff",
   "metadata": {},
   "outputs": [],
   "source": []
  },
  {
   "cell_type": "code",
   "execution_count": null,
   "id": "0f52ca55",
   "metadata": {},
   "outputs": [],
   "source": []
  },
  {
   "cell_type": "code",
   "execution_count": null,
   "id": "ece13b72",
   "metadata": {},
   "outputs": [],
   "source": []
  },
  {
   "cell_type": "code",
   "execution_count": 1,
   "id": "b89cbd5f",
   "metadata": {},
   "outputs": [],
   "source": [
    "import pandas as pd\n",
    "import os\n",
    "import tensorflow as tf\n",
    "from tensorflow import keras\n",
    "import numpy as np\n",
    "import glob"
   ]
  },
  {
   "cell_type": "code",
   "execution_count": 2,
   "id": "2fa24c37",
   "metadata": {},
   "outputs": [
    {
     "name": "stdout",
     "output_type": "stream",
     "text": [
      "PhysicalDevice(name='/physical_device:GPU:0', device_type='GPU') \n",
      "\n"
     ]
    }
   ],
   "source": [
    "gpus = tf.config.experimental.list_physical_devices('GPU')\n",
    "if gpus:\n",
    "  for gpu in gpus:\n",
    "    tf.config.experimental.set_memory_growth(gpu, True)\n",
    "    print(gpu, \"\\n\")\n",
    "else:\n",
    "  print(\"No GPU device found\")"
   ]
  },
  {
   "cell_type": "code",
   "execution_count": 3,
   "id": "26a128d2",
   "metadata": {},
   "outputs": [
    {
     "name": "stdout",
     "output_type": "stream",
     "text": [
      "Sat Jun  3 10:59:03 2023       \n",
      "+---------------------------------------------------------------------------------------+\n",
      "| NVIDIA-SMI 535.98                 Driver Version: 535.98       CUDA Version: 12.2     |\n",
      "|-----------------------------------------+----------------------+----------------------+\n",
      "| GPU  Name                     TCC/WDDM  | Bus-Id        Disp.A | Volatile Uncorr. ECC |\n",
      "| Fan  Temp   Perf          Pwr:Usage/Cap |         Memory-Usage | GPU-Util  Compute M. |\n",
      "|                                         |                      |               MIG M. |\n",
      "|=========================================+======================+======================|\n",
      "|   0  NVIDIA GeForce RTX 3060 Ti   WDDM  | 00000000:01:00.0  On |                  N/A |\n",
      "|  0%   53C    P8              13W / 200W |    472MiB /  8192MiB |      0%      Default |\n",
      "|                                         |                      |                  N/A |\n",
      "+-----------------------------------------+----------------------+----------------------+\n",
      "                                                                                         \n",
      "+---------------------------------------------------------------------------------------+\n",
      "| Processes:                                                                            |\n",
      "|  GPU   GI   CI        PID   Type   Process name                            GPU Memory |\n",
      "|        ID   ID                                                             Usage      |\n",
      "|=======================================================================================|\n",
      "|    0   N/A  N/A      1740    C+G   C:\\Windows\\explorer.exe                   N/A      |\n",
      "|    0   N/A  N/A      2856    C+G   ...2txyewy\\StartMenuExperienceHost.exe    N/A      |\n",
      "|    0   N/A  N/A      7748    C+G   ...siveControlPanel\\SystemSettings.exe    N/A      |\n",
      "|    0   N/A  N/A      8020    C+G   ...2.0_x64__cv1g1gvanyjgm\\WhatsApp.exe    N/A      |\n",
      "|    0   N/A  N/A     10004    C+G   ...oogle\\Chrome\\Application\\chrome.exe    N/A      |\n",
      "|    0   N/A  N/A     19796    C+G   ...on\\113.0.1774.57\\msedgewebview2.exe    N/A      |\n",
      "|    0   N/A  N/A     20128    C+G   ...CBS_cw5n1h2txyewy\\TextInputHost.exe    N/A      |\n",
      "|    0   N/A  N/A     21412    C+G   ...GeForce Experience\\NVIDIA Share.exe    N/A      |\n",
      "|    0   N/A  N/A     22120    C+G   ...on\\113.0.1774.57\\msedgewebview2.exe    N/A      |\n",
      "|    0   N/A  N/A     23028    C+G   ...nt.CBS_cw5n1h2txyewy\\SearchHost.exe    N/A      |\n",
      "|    0   N/A  N/A     24984    C+G   ...aam7r\\AcrobatNotificationClient.exe    N/A      |\n",
      "+---------------------------------------------------------------------------------------+\n"
     ]
    }
   ],
   "source": [
    "!nvidia-smi"
   ]
  },
  {
   "cell_type": "code",
   "execution_count": 4,
   "id": "11d04f8c",
   "metadata": {},
   "outputs": [
    {
     "name": "stdout",
     "output_type": "stream",
     "text": [
      "Read Completed for  H:\\\\Datasets\\\\ISCX_2012\\\\csv\\TestbedMonJun14Flows.xml.csv\n",
      "Read Completed for  H:\\\\Datasets\\\\ISCX_2012\\\\csv\\TestbedSatJun12Flows.xml.csv\n",
      "Read Completed for  H:\\\\Datasets\\\\ISCX_2012\\\\csv\\TestbedSunJun13Flows.xml.csv\n",
      "Read Completed for  H:\\\\Datasets\\\\ISCX_2012\\\\csv\\TestbedThuJun17-1Flows.xml.csv\n",
      "Read Completed for  H:\\\\Datasets\\\\ISCX_2012\\\\csv\\TestbedThuJun17-2Flows.xml.csv\n",
      "Read Completed for  H:\\\\Datasets\\\\ISCX_2012\\\\csv\\TestbedThuJun17-3Flows.xml.csv\n",
      "Read Completed for  H:\\\\Datasets\\\\ISCX_2012\\\\csv\\TestbedTueJun15-1Flows.xml.csv\n",
      "Read Completed for  H:\\\\Datasets\\\\ISCX_2012\\\\csv\\TestbedTueJun15-2Flows.xml.csv\n",
      "Read Completed for  H:\\\\Datasets\\\\ISCX_2012\\\\csv\\TestbedTueJun15-3Flows.xml.csv\n",
      "Read Completed for  H:\\\\Datasets\\\\ISCX_2012\\\\csv\\TestbedWedJun16-1Flows.xml.csv\n",
      "Read Completed for  H:\\\\Datasets\\\\ISCX_2012\\\\csv\\TestbedWedJun16-2Flows.xml.csv\n",
      "Read Completed for  H:\\\\Datasets\\\\ISCX_2012\\\\csv\\TestbedWedJun16-3Flows.xml.csv\n",
      "Finished Reading All Files.\n"
     ]
    }
   ],
   "source": [
    "path = r'H:\\\\Datasets\\\\ISCX_2012\\\\csv\\\\' # use your path\n",
    "all_files = glob.glob(path + \"/*.csv\")\n",
    "\n",
    "li = []\n",
    "\n",
    "for filename in all_files:\n",
    "    df = pd.read_csv(filename, index_col=None, low_memory=False)\n",
    "    li.append(df)\n",
    "    print(\"Read Completed for \", filename)\n",
    "\n",
    "df = pd.concat(li, axis=0, ignore_index=True)\n",
    "print(\"Finished Reading All Files.\")"
   ]
  },
  {
   "cell_type": "code",
   "execution_count": 5,
   "id": "6f976001",
   "metadata": {},
   "outputs": [],
   "source": [
    "df = df.rename(columns={'Tag': 'Label'})"
   ]
  },
  {
   "cell_type": "code",
   "execution_count": 6,
   "id": "8464fa56",
   "metadata": {},
   "outputs": [
    {
     "data": {
      "text/plain": [
       "Normal    2002747\n",
       "Attack      68910\n",
       "Name: Label, dtype: int64"
      ]
     },
     "execution_count": 6,
     "metadata": {},
     "output_type": "execute_result"
    }
   ],
   "source": [
    "df.Label.value_counts()"
   ]
  },
  {
   "cell_type": "code",
   "execution_count": 7,
   "id": "bc873b22",
   "metadata": {},
   "outputs": [
    {
     "data": {
      "text/plain": [
       "Index(['Unnamed: 0', 'appName', 'totalSourceBytes', 'totalDestinationBytes',\n",
       "       'totalDestinationPackets', 'totalSourcePackets',\n",
       "       'sourcePayloadAsBase64', 'sourcePayloadAsUTF',\n",
       "       'destinationPayloadAsBase64', 'destinationPayloadAsUTF', 'direction',\n",
       "       'sourceTCPFlagsDescription', 'destinationTCPFlagsDescription', 'source',\n",
       "       'protocolName', 'sourcePort', 'destination', 'destinationPort',\n",
       "       'startDateTime', 'stopDateTime', 'Label'],\n",
       "      dtype='object')"
      ]
     },
     "execution_count": 7,
     "metadata": {},
     "output_type": "execute_result"
    }
   ],
   "source": [
    "df.columns"
   ]
  },
  {
   "cell_type": "code",
   "execution_count": 8,
   "id": "467f9570",
   "metadata": {},
   "outputs": [
    {
     "name": "stdout",
     "output_type": "stream",
     "text": [
      "After dropping some columns: \n",
      "\t there are 7 columns and 2071657 rows\n"
     ]
    }
   ],
   "source": [
    "# Remove columns with only values of 0\n",
    "useless_columns = ['Unnamed: 0', 'startDateTime', 'stopDateTime', 'sourcePayloadAsBase64', 'direction',\n",
    "                   'sourcePayloadAsUTF', 'destinationPayloadAsUTF', 'destinationPayloadAsUTF', 'sourceTCPFlagsDescription', \n",
    "                   'destinationTCPFlagsDescription', 'destinationPayloadAsBase64', 'appName', 'source', 'destination', 'protocolName'\n",
    "                   ]\n",
    "df.drop(labels=useless_columns, axis='columns', inplace=True)\n",
    "print('After dropping some columns: \\n\\t there are {} columns and {} rows'.format(len(df.columns), len(df)))"
   ]
  },
  {
   "cell_type": "code",
   "execution_count": 9,
   "id": "270e9375",
   "metadata": {
    "scrolled": true
   },
   "outputs": [
    {
     "data": {
      "text/html": [
       "<div>\n",
       "<style scoped>\n",
       "    .dataframe tbody tr th:only-of-type {\n",
       "        vertical-align: middle;\n",
       "    }\n",
       "\n",
       "    .dataframe tbody tr th {\n",
       "        vertical-align: top;\n",
       "    }\n",
       "\n",
       "    .dataframe thead th {\n",
       "        text-align: right;\n",
       "    }\n",
       "</style>\n",
       "<table border=\"1\" class=\"dataframe\">\n",
       "  <thead>\n",
       "    <tr style=\"text-align: right;\">\n",
       "      <th></th>\n",
       "      <th>totalSourceBytes</th>\n",
       "      <th>totalDestinationBytes</th>\n",
       "      <th>totalDestinationPackets</th>\n",
       "      <th>totalSourcePackets</th>\n",
       "      <th>sourcePort</th>\n",
       "      <th>destinationPort</th>\n",
       "      <th>Label</th>\n",
       "    </tr>\n",
       "  </thead>\n",
       "  <tbody>\n",
       "    <tr>\n",
       "      <th>0</th>\n",
       "      <td>16076</td>\n",
       "      <td>0</td>\n",
       "      <td>0</td>\n",
       "      <td>178</td>\n",
       "      <td>5353</td>\n",
       "      <td>5353</td>\n",
       "      <td>Normal</td>\n",
       "    </tr>\n",
       "    <tr>\n",
       "      <th>1</th>\n",
       "      <td>384</td>\n",
       "      <td>0</td>\n",
       "      <td>0</td>\n",
       "      <td>6</td>\n",
       "      <td>4435</td>\n",
       "      <td>80</td>\n",
       "      <td>Normal</td>\n",
       "    </tr>\n",
       "    <tr>\n",
       "      <th>2</th>\n",
       "      <td>171</td>\n",
       "      <td>642</td>\n",
       "      <td>4</td>\n",
       "      <td>2</td>\n",
       "      <td>4428</td>\n",
       "      <td>53</td>\n",
       "      <td>Normal</td>\n",
       "    </tr>\n",
       "    <tr>\n",
       "      <th>3</th>\n",
       "      <td>384</td>\n",
       "      <td>0</td>\n",
       "      <td>0</td>\n",
       "      <td>6</td>\n",
       "      <td>3639</td>\n",
       "      <td>80</td>\n",
       "      <td>Normal</td>\n",
       "    </tr>\n",
       "    <tr>\n",
       "      <th>4</th>\n",
       "      <td>186</td>\n",
       "      <td>128</td>\n",
       "      <td>2</td>\n",
       "      <td>2</td>\n",
       "      <td>3641</td>\n",
       "      <td>80</td>\n",
       "      <td>Normal</td>\n",
       "    </tr>\n",
       "  </tbody>\n",
       "</table>\n",
       "</div>"
      ],
      "text/plain": [
       "   totalSourceBytes  totalDestinationBytes  totalDestinationPackets  \\\n",
       "0             16076                      0                        0   \n",
       "1               384                      0                        0   \n",
       "2               171                    642                        4   \n",
       "3               384                      0                        0   \n",
       "4               186                    128                        2   \n",
       "\n",
       "   totalSourcePackets  sourcePort  destinationPort   Label  \n",
       "0                 178        5353             5353  Normal  \n",
       "1                   6        4435               80  Normal  \n",
       "2                   2        4428               53  Normal  \n",
       "3                   6        3639               80  Normal  \n",
       "4                   2        3641               80  Normal  "
      ]
     },
     "execution_count": 9,
     "metadata": {},
     "output_type": "execute_result"
    }
   ],
   "source": [
    "df.head()"
   ]
  },
  {
   "cell_type": "code",
   "execution_count": 10,
   "id": "44254583",
   "metadata": {},
   "outputs": [
    {
     "name": "stdout",
     "output_type": "stream",
     "text": [
      "There are 7 columns and 2071657 rows in the Layer 1 Data.\n",
      "After dropping NaN values, there are 7 columns and 2071657 rows in Layer 1 Data.\n",
      "\n",
      "\n"
     ]
    }
   ],
   "source": [
    "# Drop NaN values\n",
    "print('There are {} columns and {} rows in the Layer 1 Data.'.format(len(df.columns), len(df)))\n",
    "df.dropna(axis='index', inplace=True)\n",
    "df = df[~df.isin([np.nan, np.inf, -np.inf]).any(1)]\n",
    "print('After dropping NaN values, there are {} columns and {} rows in Layer 1 Data.\\n\\n'.format(len(df.columns), len(df)))"
   ]
  },
  {
   "cell_type": "code",
   "execution_count": 11,
   "id": "fabb4ba9",
   "metadata": {},
   "outputs": [
    {
     "data": {
      "image/png": "[encoded data removed]",
      "text/plain": [
       "<Figure size 1080x504 with 1 Axes>"
      ]
     },
     "metadata": {
      "needs_background": "light"
     },
     "output_type": "display_data"
    }
   ],
   "source": [
    "# Exploratory data analysis\n",
    "import matplotlib.pyplot as plt\n",
    "from matplotlib.pyplot import *\n",
    "\n",
    "plt.figure(figsize=(15,7))\n",
    "class_distribution = df['Label'].value_counts()\n",
    "class_distribution.plot(kind='bar')\n",
    "plt.xlabel('Class')\n",
    "plt.ylabel('Data points per Class')\n",
    "plt.title('Distribution of Clean Data')\n",
    "plt.grid()\n",
    "plt.show()"
   ]
  },
  {
   "cell_type": "code",
   "execution_count": 12,
   "id": "819c9d2e",
   "metadata": {},
   "outputs": [
    {
     "data": {
      "text/plain": [
       "1    2002747\n",
       "0      68910\n",
       "Name: Label, dtype: int64"
      ]
     },
     "execution_count": 12,
     "metadata": {},
     "output_type": "execute_result"
    }
   ],
   "source": [
    "from sklearn.model_selection import train_test_split\n",
    "from sklearn.preprocessing import OneHotEncoder, StandardScaler, LabelEncoder\n",
    "\n",
    "\n",
    "#drop na values and reset index\n",
    "data_clean = df.dropna().reset_index()\n",
    "\n",
    "# label encoding\n",
    "labelencoder = LabelEncoder()\n",
    "data_clean['Label'] = labelencoder.fit_transform(data_clean['Label'])\n",
    "\n",
    "data_clean['Label'].value_counts()"
   ]
  },
  {
   "cell_type": "code",
   "execution_count": 13,
   "id": "c018c830",
   "metadata": {},
   "outputs": [],
   "source": [
    "data_np = data_clean.to_numpy(dtype=\"float32\")\n",
    "data_np = data_np[~np.isinf(data_np).any(axis=1)]\n",
    "\n",
    "del df\n",
    "\n",
    "X = data_np[:, 0:6]\n",
    "\n",
    "enc = OneHotEncoder()\n",
    "\n",
    "Y = enc.fit_transform(data_np[:,7:]).toarray()"
   ]
  },
  {
   "cell_type": "code",
   "execution_count": 14,
   "id": "992d5916",
   "metadata": {},
   "outputs": [],
   "source": [
    "scaler = StandardScaler()\n",
    "X_scaled = scaler.fit_transform(X)\n",
    "\n",
    "# Split the data set into training and testing\n",
    "X_train, X_test, Y_train, Y_test = train_test_split(\n",
    "    X_scaled, Y, test_size=0.25, random_state=2, shuffle=True)\n",
    "\n",
    "_features = X.shape[1]\n",
    "n_classes = Y.shape[1]"
   ]
  },
  {
   "cell_type": "code",
   "execution_count": 15,
   "id": "5c4ed9c5",
   "metadata": {},
   "outputs": [
    {
     "data": {
      "text/plain": [
       "(2071657, 6)"
      ]
     },
     "execution_count": 15,
     "metadata": {},
     "output_type": "execute_result"
    }
   ],
   "source": [
    "X.shape"
   ]
  },
  {
   "cell_type": "code",
   "execution_count": 16,
   "id": "3cc252c3",
   "metadata": {},
   "outputs": [
    {
     "data": {
      "text/plain": [
       "(2071657, 2)"
      ]
     },
     "execution_count": 16,
     "metadata": {},
     "output_type": "execute_result"
    }
   ],
   "source": [
    "Y.shape"
   ]
  },
  {
   "cell_type": "code",
   "execution_count": 17,
   "id": "2e917a6f",
   "metadata": {},
   "outputs": [
    {
     "name": "stdout",
     "output_type": "stream",
     "text": [
      "(1553742, 6)\n",
      "(1553742, 2)\n",
      "(517915, 6)\n",
      "(517915, 2)\n"
     ]
    }
   ],
   "source": [
    "print(X_train.shape)\n",
    "print(Y_train.shape)\n",
    "\n",
    "print(X_test.shape)\n",
    "print(Y_test.shape)"
   ]
  },
  {
   "cell_type": "code",
   "execution_count": 18,
   "id": "f5bb592f",
   "metadata": {},
   "outputs": [],
   "source": [
    "# In order to ignore FutureWarning\n",
    "import warnings\n",
    "warnings.simplefilter(action='ignore', category=FutureWarning)\n",
    "warnings.simplefilter(action='ignore', category=DeprecationWarning)\n",
    "\n",
    "from keras.models import Sequential\n",
    "from keras import callbacks\n",
    "from keras.layers import Dense, Activation, Dropout\n",
    "from sklearn import metrics\n",
    "from keras.models import Sequential"
   ]
  },
  {
   "cell_type": "markdown",
   "id": "71b5c690",
   "metadata": {},
   "source": [
    "# DNN"
   ]
  },
  {
   "cell_type": "code",
   "execution_count": 19,
   "id": "c972245a",
   "metadata": {},
   "outputs": [
    {
     "name": "stdout",
     "output_type": "stream",
     "text": [
      "Model: \"sequential\"\n",
      "_________________________________________________________________\n",
      " Layer (type)                Output Shape              Param #   \n",
      "=================================================================\n",
      " dense (Dense)               (None, 64)                448       \n",
      "                                                                 \n",
      " dense_1 (Dense)             (None, 128)               8320      \n",
      "                                                                 \n",
      " dropout (Dropout)           (None, 128)               0         \n",
      "                                                                 \n",
      " dense_2 (Dense)             (None, 256)               33024     \n",
      "                                                                 \n",
      " dropout_1 (Dropout)         (None, 256)               0         \n",
      "                                                                 \n",
      " dense_3 (Dense)             (None, 128)               32896     \n",
      "                                                                 \n",
      " dropout_2 (Dropout)         (None, 128)               0         \n",
      "                                                                 \n",
      " dense_4 (Dense)             (None, 2)                 258       \n",
      "                                                                 \n",
      " dense_5 (Dense)             (None, 2)                 6         \n",
      "                                                                 \n",
      "=================================================================\n",
      "Total params: 74,952\n",
      "Trainable params: 74,952\n",
      "Non-trainable params: 0\n",
      "_________________________________________________________________\n",
      "Epoch 1/30\n",
      "24278/24278 [==============================] - 74s 3ms/step - loss: 0.0500 - accuracy: 0.9863 - val_loss: 0.0306 - val_accuracy: 0.9920\n",
      "Epoch 2/30\n",
      "24278/24278 [==============================] - 71s 3ms/step - loss: 0.0296 - accuracy: 0.9916 - val_loss: 0.0247 - val_accuracy: 0.9931\n",
      "Epoch 3/30\n",
      "24278/24278 [==============================] - 74s 3ms/step - loss: 0.0252 - accuracy: 0.9924 - val_loss: 0.0244 - val_accuracy: 0.9912\n",
      "Epoch 4/30\n",
      "24278/24278 [==============================] - 71s 3ms/step - loss: 0.0217 - accuracy: 0.9931 - val_loss: 0.0189 - val_accuracy: 0.9949\n",
      "Epoch 5/30\n",
      "24278/24278 [==============================] - 70s 3ms/step - loss: 0.0188 - accuracy: 0.9939 - val_loss: 0.0155 - val_accuracy: 0.9957\n",
      "Epoch 6/30\n",
      "24278/24278 [==============================] - 70s 3ms/step - loss: 0.0166 - accuracy: 0.9946 - val_loss: 0.0133 - val_accuracy: 0.9959\n",
      "Epoch 7/30\n",
      "24278/24278 [==============================] - 71s 3ms/step - loss: 0.0152 - accuracy: 0.9952 - val_loss: 0.0127 - val_accuracy: 0.9960\n",
      "Epoch 8/30\n",
      "24278/24278 [==============================] - 71s 3ms/step - loss: 0.0141 - accuracy: 0.9955 - val_loss: 0.0119 - val_accuracy: 0.9953\n",
      "Epoch 9/30\n",
      "24278/24278 [==============================] - 70s 3ms/step - loss: 0.0133 - accuracy: 0.9957 - val_loss: 0.0128 - val_accuracy: 0.9959\n",
      "Epoch 10/30\n",
      "24278/24278 [==============================] - 73s 3ms/step - loss: 0.0127 - accuracy: 0.9960 - val_loss: 0.0110 - val_accuracy: 0.9966\n",
      "Epoch 11/30\n",
      "24278/24278 [==============================] - 72s 3ms/step - loss: 0.0122 - accuracy: 0.9961 - val_loss: 0.0092 - val_accuracy: 0.9970\n",
      "Epoch 12/30\n",
      "24278/24278 [==============================] - 69s 3ms/step - loss: 0.0117 - accuracy: 0.9962 - val_loss: 0.0100 - val_accuracy: 0.9967\n",
      "Epoch 13/30\n",
      "24278/24278 [==============================] - 72s 3ms/step - loss: 0.0113 - accuracy: 0.9963 - val_loss: 0.0113 - val_accuracy: 0.9972\n",
      "Epoch 14/30\n",
      "24278/24278 [==============================] - 71s 3ms/step - loss: 0.0119 - accuracy: 0.9959 - val_loss: 0.0093 - val_accuracy: 0.9968\n",
      "Epoch 15/30\n",
      "24278/24278 [==============================] - 71s 3ms/step - loss: 0.0110 - accuracy: 0.9963 - val_loss: 0.0136 - val_accuracy: 0.9965\n",
      "Epoch 16/30\n",
      "24278/24278 [==============================] - 70s 3ms/step - loss: 0.0107 - accuracy: 0.9964 - val_loss: 0.0101 - val_accuracy: 0.9968\n",
      "Epoch 17/30\n",
      "24278/24278 [==============================] - 70s 3ms/step - loss: 0.0102 - accuracy: 0.9966 - val_loss: 0.0097 - val_accuracy: 0.9970\n",
      "Epoch 18/30\n",
      "24278/24278 [==============================] - 71s 3ms/step - loss: 0.0100 - accuracy: 0.9967 - val_loss: 0.0112 - val_accuracy: 0.9970\n",
      "Epoch 19/30\n",
      "24278/24278 [==============================] - 71s 3ms/step - loss: 0.0097 - accuracy: 0.9967 - val_loss: 0.0080 - val_accuracy: 0.9972\n",
      "Epoch 20/30\n",
      "24278/24278 [==============================] - 70s 3ms/step - loss: 0.0096 - accuracy: 0.9967 - val_loss: 0.0082 - val_accuracy: 0.9969\n",
      "Epoch 21/30\n",
      "24278/24278 [==============================] - 70s 3ms/step - loss: 0.0094 - accuracy: 0.9968 - val_loss: 0.0089 - val_accuracy: 0.9967\n",
      "Epoch 22/30\n",
      "24278/24278 [==============================] - 70s 3ms/step - loss: 0.0093 - accuracy: 0.9968 - val_loss: 0.0120 - val_accuracy: 0.9960\n",
      "Epoch 23/30\n",
      "24278/24278 [==============================] - 69s 3ms/step - loss: 0.0092 - accuracy: 0.9969 - val_loss: 0.0083 - val_accuracy: 0.9973\n",
      "Epoch 24/30\n",
      "24278/24278 [==============================] - 71s 3ms/step - loss: 0.0090 - accuracy: 0.9970 - val_loss: 0.0074 - val_accuracy: 0.9973\n",
      "Epoch 25/30\n",
      "24278/24278 [==============================] - 73s 3ms/step - loss: 0.0088 - accuracy: 0.9970 - val_loss: 0.0075 - val_accuracy: 0.9970\n",
      "Epoch 26/30\n",
      "24278/24278 [==============================] - 71s 3ms/step - loss: 0.0087 - accuracy: 0.9970 - val_loss: 0.0068 - val_accuracy: 0.9976\n",
      "Epoch 27/30\n",
      "24278/24278 [==============================] - 71s 3ms/step - loss: 0.0084 - accuracy: 0.9971 - val_loss: 0.0067 - val_accuracy: 0.9976\n",
      "Epoch 28/30\n",
      "24278/24278 [==============================] - 70s 3ms/step - loss: 0.0084 - accuracy: 0.9971 - val_loss: 0.0078 - val_accuracy: 0.9973\n",
      "Epoch 29/30\n",
      "24278/24278 [==============================] - 72s 3ms/step - loss: 0.0085 - accuracy: 0.9971 - val_loss: 0.0079 - val_accuracy: 0.9970\n",
      "Epoch 30/30\n",
      "24278/24278 [==============================] - 72s 3ms/step - loss: 0.0083 - accuracy: 0.9972 - val_loss: 0.0067 - val_accuracy: 0.9976\n"
     ]
    }
   ],
   "source": [
    "# Simple 3 Layer Dense Model\n",
    "\n",
    "model = Sequential()\n",
    "\n",
    "model.add(Dense(64, input_dim=_features, activation='relu'))\n",
    "model.add(Dense(128, activation='relu'))\n",
    "model.add(Dropout(0.1))\n",
    "model.add(Dense(256, activation='relu'))\n",
    "model.add(Dropout(0.1))\n",
    "model.add(Dense(128, activation='relu'))\n",
    "model.add(Dropout(0.1))\n",
    "model.add(Dense(n_classes, kernel_initializer='normal'))\n",
    "model.add(Dense(n_classes, activation='softmax'))\n",
    "model.summary() \n",
    "\n",
    "opt = keras.optimizers.Adam(learning_rate=0.0001)\n",
    "model.compile(loss='BinaryCrossentropy', optimizer=opt, metrics=['accuracy'])\n",
    "\n",
    "early_stop_callback = tf.keras.callbacks.EarlyStopping(monitor='loss', patience=5)\n",
    "reduce_lr = tf.keras.callbacks.ReduceLROnPlateau(monitor='val_loss', factor=0.2,\n",
    "                                  patience=3, min_lr=0.0001)\n",
    "    \n",
    "history = model.fit(X_train, Y_train,\n",
    "                              batch_size=64,\n",
    "                              epochs=30,\n",
    "                              verbose=True, #callbacks=[reduce_lr, early_stop_callback],\n",
    "                              validation_data=(X_test, Y_test))"
   ]
  },
  {
   "cell_type": "code",
   "execution_count": 20,
   "id": "c70ea48d",
   "metadata": {},
   "outputs": [],
   "source": [
    "#import tensorflow.keras.backend as K\n",
    "#print('Learning Rate - ')\n",
    "#print(K.eval(model.optimizer.lr)) \n",
    "#print('==================================')\n",
    "#model.summary()\n",
    "\n",
    "#model.save('H:/Datasets/ISCX_2012/model.h5')"
   ]
  },
  {
   "cell_type": "code",
   "execution_count": 21,
   "id": "c6be2d2d",
   "metadata": {},
   "outputs": [
    {
     "name": "stdout",
     "output_type": "stream",
     "text": [
      "16185/16185 [==============================] - 13s 812us/step\n",
      "Inference time: 21.10 seconds\n"
     ]
    }
   ],
   "source": [
    "import time\n",
    "\n",
    "# Measure inference time\n",
    "start_time = time.time()\n",
    "pred = model.predict(X_test)\n",
    "end_time = time.time()\n",
    "\n",
    "inference_time = end_time - start_time\n",
    "print(\"Inference time: {:.2f} seconds\".format(inference_time))\n",
    "\n",
    "pred = np.argmax(pred,axis=1)\n",
    "y_test = Y_test.argmax(axis=1)"
   ]
  },
  {
   "cell_type": "code",
   "execution_count": 22,
   "id": "9f42e802",
   "metadata": {},
   "outputs": [
    {
     "data": {
      "text/plain": [
       "(517915,)"
      ]
     },
     "execution_count": 22,
     "metadata": {},
     "output_type": "execute_result"
    }
   ],
   "source": [
    "pred.shape\n",
    "y_test.shape"
   ]
  },
  {
   "cell_type": "code",
   "execution_count": 23,
   "id": "db26eaf5",
   "metadata": {},
   "outputs": [
    {
     "data": {
      "text/plain": [
       "array([[ 16232,    886],\n",
       "       [   371, 500426]], dtype=int64)"
      ]
     },
     "execution_count": 23,
     "metadata": {},
     "output_type": "execute_result"
    }
   ],
   "source": [
    "from sklearn.metrics import confusion_matrix, precision_score, recall_score\n",
    "import seaborn as sn\n",
    "\n",
    "confMat = confusion_matrix(y_test, pred)\n",
    "confMat"
   ]
  },
  {
   "cell_type": "code",
   "execution_count": 24,
   "id": "07775696",
   "metadata": {},
   "outputs": [
    {
     "name": "stdout",
     "output_type": "stream",
     "text": [
      "16185/16185 [==============================] - 23s 1ms/step - loss: 0.0067 - accuracy: 0.9976\n",
      "16185/16185 [==============================] - 13s 804us/step\n",
      "Inference time: 17.41 seconds\n",
      "Completed\n",
      "Time taken: 0:00:41.334671\n",
      "Validation score: 0.9975729608140332\n",
      "Evaluation score: [0.006717247422784567, 0.9975729584693909]\n",
      "Recall score: 0.9975729608140332\n",
      "Precision score: 0.9975524986370965\n",
      "F1 Measure score: 0.9975550511263263\n",
      "ROC-AUC score: 0.9737503989385167\n"
     ]
    }
   ],
   "source": [
    "import datetime as dt\n",
    "from sklearn.metrics import accuracy_score, confusion_matrix, precision_score, recall_score, f1_score, roc_auc_score\n",
    "from sklearn import preprocessing\n",
    "import time\n",
    "\n",
    "start = dt.datetime.now()\n",
    "\n",
    "escore = model.evaluate(X_test, Y_test, batch_size=32)\n",
    "\n",
    "# Measure inference time\n",
    "start_time = time.time()\n",
    "pred = model.predict(X_test)\n",
    "end_time = time.time()\n",
    "\n",
    "inference_time = end_time - start_time\n",
    "print(\"Inference time: {:.2f} seconds\".format(inference_time))\n",
    "\n",
    "\n",
    "pred = np.argmax(pred,axis=1)\n",
    "y_eval = np.argmax(Y_test,axis=1)\n",
    "\n",
    "score = metrics.accuracy_score(y_eval, pred)\n",
    "rscore = recall_score(y_eval, pred, average='weighted')\n",
    "ascore = precision_score(y_eval, pred, average='weighted')\n",
    "f1score= f1_score(y_eval, pred, average='weighted') #F1 = 2 * (precision * recall) / (precision + recall) for manual\n",
    "\n",
    "lb = preprocessing.LabelBinarizer()\n",
    "lb.fit(y_eval)\n",
    "y_eval = lb.transform(y_eval)\n",
    "pred = lb.transform(pred)\n",
    "roc_score = roc_auc_score(y_eval, pred)\n",
    "#roc_auc_socre = multiclass_roc_auc_score(y_eval, pred)\n",
    "\n",
    "print('Completed')\n",
    "print('Time taken:',dt.datetime.now()-start)\n",
    "\n",
    "print(\"Validation score: {}\".format(score))\n",
    "print(\"Evaluation score: {}\".format(escore))\n",
    "print(\"Recall score: {}\".format(rscore))\n",
    "print(\"Precision score: {}\".format(ascore))\n",
    "print(\"F1 Measure score: {}\".format(f1score))\n",
    "print(\"ROC-AUC score: {}\".format(roc_score))"
   ]
  },
  {
   "cell_type": "code",
   "execution_count": 27,
   "id": "dba435bb",
   "metadata": {},
   "outputs": [],
   "source": [
    "# Plot for training and validation loss\n",
    "history_dict = history.history\n",
    "loss_values = history_dict['loss']\n",
    "val_loss_values = history_dict['val_loss']\n",
    "acc = history_dict['accuracy']\n",
    "val_acc = history_dict['val_accuracy']"
   ]
  },
  {
   "cell_type": "code",
   "execution_count": 28,
   "id": "2c5d94bb",
   "metadata": {},
   "outputs": [],
   "source": [
    "start_by_epoch = 1\n",
    "epochs = range(start_by_epoch, len(loss_values) + 1)"
   ]
  },
  {
   "cell_type": "code",
   "execution_count": null,
   "id": "28aaf890",
   "metadata": {},
   "outputs": [],
   "source": [
    "plt.plot(epochs, acc[start_by_epoch-1:], label='Training accuracy')\n",
    "plt.plot(epochs, val_acc[start_by_epoch-1:], label='Validation accuracy')\n",
    "plt.title('Training and validation accuracy')\n",
    "plt.xlabel('Epochs')\n",
    "plt.ylabel('Accuracy')\n",
    "plt.legend(['Training', 'Test'], loc='lower right')\n",
    "\n",
    "plt.show()\n",
    "plt.clf()\n",
    "\n",
    "\n",
    "#plt.subplot(212)\n",
    "\n",
    "plt.plot(epochs, loss_values[start_by_epoch-1:], label='Training Loss')\n",
    "plt.plot(epochs, val_loss_values[start_by_epoch-1:], label='Validation Loss')\n",
    "plt.title('Training and validation loss')\n",
    "plt.xlabel('Epochs')\n",
    "plt.ylabel('Loss')\n",
    "plt.legend(['Training', 'Validation'], loc='upper right')\n",
    "\n",
    "plt.tight_layout()\n",
    "\n",
    "plt.show()\n",
    "plt.clf()"
   ]
  },
  {
   "cell_type": "code",
   "execution_count": null,
   "id": "dd6bd9c2",
   "metadata": {},
   "outputs": [],
   "source": [
    "pd.DataFrame(history.history).plot(figsize=(8,5))\n",
    "plt.grid(True)\n",
    "plt.gca().set_ylim(-0.02,1.02)\n",
    "plt.title('Training and Validation Rate')\n",
    "plt.xlabel('Epochs')\n",
    "plt.ylabel('Score')\n",
    "plt.show()"
   ]
  },
  {
   "cell_type": "markdown",
   "id": "e2bc6058",
   "metadata": {},
   "source": [
    "# CNN Model"
   ]
  },
  {
   "cell_type": "code",
   "execution_count": 25,
   "id": "a7b63b71",
   "metadata": {},
   "outputs": [],
   "source": [
    "import keras\n",
    "from keras import models, layers, regularizers, optimizers, losses, metrics\n",
    "\n",
    "from sklearn.model_selection import StratifiedShuffleSplit\n",
    "from keras.models import Sequential\n",
    "from keras.layers import Dense, Activation, Flatten, Dropout, Conv1D, MaxPooling1D\n",
    "from keras.optimizers import SGD\n",
    "from keras.utils import np_utils\n",
    "from sklearn.model_selection import train_test_split\n",
    "from sklearn.model_selection import StratifiedKFold\n",
    "import matplotlib.pyplot as plt\n",
    "from sklearn.metrics import roc_curve\n",
    "from sklearn.metrics import auc"
   ]
  },
  {
   "cell_type": "code",
   "execution_count": 31,
   "id": "1c797a96",
   "metadata": {},
   "outputs": [
    {
     "name": "stdout",
     "output_type": "stream",
     "text": [
      "Model: \"sequential_6\"\n",
      "_________________________________________________________________\n",
      " Layer (type)                Output Shape              Param #   \n",
      "=================================================================\n",
      " conv1d_6 (Conv1D)           (None, 6, 128)            896       \n",
      "                                                                 \n",
      " max_pooling1d_5 (MaxPooling  (None, 3, 128)           0         \n",
      " 1D)                                                             \n",
      "                                                                 \n",
      " conv1d_7 (Conv1D)           (None, 3, 256)            33024     \n",
      "                                                                 \n",
      " max_pooling1d_6 (MaxPooling  (None, 1, 256)           0         \n",
      " 1D)                                                             \n",
      "                                                                 \n",
      " flatten_1 (Flatten)         (None, 256)               0         \n",
      "                                                                 \n",
      " dense_9 (Dense)             (None, 256)               65792     \n",
      "                                                                 \n",
      " dropout_4 (Dropout)         (None, 256)               0         \n",
      "                                                                 \n",
      " dense_10 (Dense)            (None, 2)                 514       \n",
      "                                                                 \n",
      " dense_11 (Dense)            (None, 2)                 6         \n",
      "                                                                 \n",
      "=================================================================\n",
      "Total params: 100,232\n",
      "Trainable params: 100,232\n",
      "Non-trainable params: 0\n",
      "_________________________________________________________________\n",
      "Epoch 1/30\n",
      "24278/24278 [==============================] - 67s 3ms/step - loss: 0.0498 - accuracy: 0.9859 - val_loss: 0.0321 - val_accuracy: 0.9927\n",
      "Epoch 2/30\n",
      "24278/24278 [==============================] - 67s 3ms/step - loss: 0.0293 - accuracy: 0.9916 - val_loss: 0.0239 - val_accuracy: 0.9934\n",
      "Epoch 3/30\n",
      "24278/24278 [==============================] - 67s 3ms/step - loss: 0.0241 - accuracy: 0.9923 - val_loss: 0.0194 - val_accuracy: 0.9937\n",
      "Epoch 4/30\n",
      "24278/24278 [==============================] - 69s 3ms/step - loss: 0.0200 - accuracy: 0.9931 - val_loss: 0.0172 - val_accuracy: 0.9943\n",
      "Epoch 5/30\n",
      "24278/24278 [==============================] - 68s 3ms/step - loss: 0.0174 - accuracy: 0.9939 - val_loss: 0.0148 - val_accuracy: 0.9949\n",
      "Epoch 6/30\n",
      "24278/24278 [==============================] - 67s 3ms/step - loss: 0.0157 - accuracy: 0.9944 - val_loss: 0.0131 - val_accuracy: 0.9950\n",
      "Epoch 7/30\n",
      "24278/24278 [==============================] - 67s 3ms/step - loss: 0.0144 - accuracy: 0.9947 - val_loss: 0.0128 - val_accuracy: 0.9951\n",
      "Epoch 8/30\n",
      "24278/24278 [==============================] - 67s 3ms/step - loss: 0.0135 - accuracy: 0.9950 - val_loss: 0.0121 - val_accuracy: 0.9950\n",
      "Epoch 9/30\n",
      "24278/24278 [==============================] - 67s 3ms/step - loss: 0.0130 - accuracy: 0.9952 - val_loss: 0.0118 - val_accuracy: 0.9952\n",
      "Epoch 10/30\n",
      "24278/24278 [==============================] - 67s 3ms/step - loss: 0.0124 - accuracy: 0.9953 - val_loss: 0.0113 - val_accuracy: 0.9954\n",
      "Epoch 11/30\n",
      "24278/24278 [==============================] - 66s 3ms/step - loss: 0.0118 - accuracy: 0.9956 - val_loss: 0.0114 - val_accuracy: 0.9956\n",
      "Epoch 12/30\n",
      "24278/24278 [==============================] - 66s 3ms/step - loss: 0.0114 - accuracy: 0.9957 - val_loss: 0.0110 - val_accuracy: 0.9958\n",
      "Epoch 13/30\n",
      "24278/24278 [==============================] - 66s 3ms/step - loss: 0.0110 - accuracy: 0.9959 - val_loss: 0.0105 - val_accuracy: 0.9959\n",
      "Epoch 14/30\n",
      "24278/24278 [==============================] - 68s 3ms/step - loss: 0.0105 - accuracy: 0.9961 - val_loss: 0.0103 - val_accuracy: 0.9959\n",
      "Epoch 15/30\n",
      "24278/24278 [==============================] - 70s 3ms/step - loss: 0.0101 - accuracy: 0.9963 - val_loss: 0.0099 - val_accuracy: 0.9962\n",
      "Epoch 16/30\n",
      "24278/24278 [==============================] - 67s 3ms/step - loss: 0.0097 - accuracy: 0.9964 - val_loss: 0.0101 - val_accuracy: 0.9967\n",
      "Epoch 17/30\n",
      "24278/24278 [==============================] - 68s 3ms/step - loss: 0.0094 - accuracy: 0.9966 - val_loss: 0.0093 - val_accuracy: 0.9967\n",
      "Epoch 18/30\n",
      "24278/24278 [==============================] - 67s 3ms/step - loss: 0.0091 - accuracy: 0.9967 - val_loss: 0.0086 - val_accuracy: 0.9967\n",
      "Epoch 19/30\n",
      "24278/24278 [==============================] - 68s 3ms/step - loss: 0.0089 - accuracy: 0.9968 - val_loss: 0.0087 - val_accuracy: 0.9969\n",
      "Epoch 20/30\n",
      "24278/24278 [==============================] - 67s 3ms/step - loss: 0.0086 - accuracy: 0.9969 - val_loss: 0.0086 - val_accuracy: 0.9970\n",
      "Epoch 21/30\n",
      "24278/24278 [==============================] - 67s 3ms/step - loss: 0.0083 - accuracy: 0.9970 - val_loss: 0.0083 - val_accuracy: 0.9969\n",
      "Epoch 22/30\n",
      "24278/24278 [==============================] - 68s 3ms/step - loss: 0.0082 - accuracy: 0.9970 - val_loss: 0.0084 - val_accuracy: 0.9971\n",
      "Epoch 23/30\n",
      "24278/24278 [==============================] - 67s 3ms/step - loss: 0.0081 - accuracy: 0.9971 - val_loss: 0.0079 - val_accuracy: 0.9972\n",
      "Epoch 24/30\n",
      "24278/24278 [==============================] - 68s 3ms/step - loss: 0.0081 - accuracy: 0.9971 - val_loss: 0.0080 - val_accuracy: 0.9974\n",
      "Epoch 25/30\n",
      "24278/24278 [==============================] - 67s 3ms/step - loss: 0.0076 - accuracy: 0.9972 - val_loss: 0.0079 - val_accuracy: 0.9975\n",
      "Epoch 26/30\n",
      "24278/24278 [==============================] - 67s 3ms/step - loss: 0.0077 - accuracy: 0.9972 - val_loss: 0.0069 - val_accuracy: 0.9976\n",
      "Epoch 27/30\n",
      "24278/24278 [==============================] - 67s 3ms/step - loss: 0.0075 - accuracy: 0.9973 - val_loss: 0.0064 - val_accuracy: 0.9976\n",
      "Epoch 28/30\n",
      "24278/24278 [==============================] - 68s 3ms/step - loss: 0.0073 - accuracy: 0.9973 - val_loss: 0.0061 - val_accuracy: 0.9978\n",
      "Epoch 29/30\n",
      "24278/24278 [==============================] - 67s 3ms/step - loss: 0.0073 - accuracy: 0.9973 - val_loss: 0.0058 - val_accuracy: 0.9978\n",
      "Epoch 30/30\n",
      "24278/24278 [==============================] - 68s 3ms/step - loss: 0.0072 - accuracy: 0.9974 - val_loss: 0.0058 - val_accuracy: 0.9979\n"
     ]
    }
   ],
   "source": [
    "# In order to ignore FutureWarning\n",
    "import warnings\n",
    "warnings.simplefilter(action='ignore', category=FutureWarning)\n",
    "warnings.simplefilter(action='ignore', category=DeprecationWarning)\n",
    "\n",
    "from keras.models import Sequential\n",
    "from keras import callbacks\n",
    "from keras.layers import Dense, Activation, Flatten, Convolution1D, MaxPooling1D, Dropout\n",
    "from sklearn import metrics\n",
    "from hyperopt import fmin, hp, tpe, Trials, STATUS_OK\n",
    "from hyperopt.plotting import main_plot_history, main_plot_vars\n",
    "import uuid\n",
    "import gc\n",
    "from tensorflow import keras\n",
    "import tensorflow as tf\n",
    "\n",
    "K = keras.backend\n",
    "\n",
    "X_train = X_train.reshape(X_train.shape[0], 6, 1).astype('float32')\n",
    "X_test = X_test.reshape(X_test.shape[0], 6, 1).astype('float32')\n",
    "\n",
    "\n",
    "# CNN Model\n",
    "model = Sequential()\n",
    "model.add(Convolution1D(filters=128, kernel_size=6, padding=\"same\", activation=\"relu\", input_shape=(_features, 1)))\n",
    "model.add(MaxPooling1D(pool_size=2))\n",
    "model.add(Convolution1D(filters=256, kernel_size=1, activation=\"relu\"))\n",
    "model.add(MaxPooling1D(pool_size=2))\n",
    "\n",
    "model.add(Flatten())\n",
    "\n",
    "model.add(Dense(256, activation='relu'))\n",
    "model.add(Dropout(0.1))\n",
    "\n",
    "model.add(Dense(n_classes, kernel_initializer='normal'))\n",
    "model.add(Dense(n_classes, activation='softmax'))\n",
    "\n",
    "model.summary() \n",
    "\n",
    "opt = keras.optimizers.Adam(learning_rate=0.0001)\n",
    "model.compile(loss='categorical_crossentropy',optimizer=opt, metrics=['accuracy'])\n",
    "\n",
    "early_stop_callback = keras.callbacks.EarlyStopping(monitor='loss', patience=5)\n",
    "reduce_lr = keras.callbacks.ReduceLROnPlateau(monitor='val_loss', factor=0.2,\n",
    "                                  patience=3, min_lr=0.0001)\n",
    "    \n",
    "history = model.fit(X_train, Y_train,\n",
    "                              batch_size=64,\n",
    "                              epochs=30,\n",
    "                              verbose=True, #callbacks=[reduce_lr, early_stop_callback],\n",
    "                              validation_data=(X_test, Y_test))  "
   ]
  },
  {
   "cell_type": "code",
   "execution_count": 32,
   "id": "137c619b",
   "metadata": {},
   "outputs": [
    {
     "name": "stdout",
     "output_type": "stream",
     "text": [
      "16185/16185 [==============================] - 16s 953us/step\n",
      "Best loss: 0.005845583000034094\n",
      "Balanced Acc loss: 95.3510565889483\n"
     ]
    }
   ],
   "source": [
    "#y_pred = model.predict_classes(X_test)\n",
    "y_pred = np.argmax(model.predict(X_test), axis=-1)\n",
    "balanced_score = metrics.balanced_accuracy_score(np.argmax(Y_test, axis=1), y_pred) * 100\n",
    "    \n",
    "best_loss = np.amin(history.history['val_loss']) \n",
    "print('Best loss: {}'.format(best_loss))\n",
    "print('Balanced Acc loss: {}'.format(balanced_score))\n",
    "    \n",
    "    \n",
    "#import tensorflow.keras.backend as K\n",
    "#print('Learning Rate - ')\n",
    "#print(K.eval(model.optimizer.lr)) \n",
    "#print('==================================')\n",
    "#model.summary()"
   ]
  },
  {
   "cell_type": "code",
   "execution_count": 33,
   "id": "64bc9b11",
   "metadata": {},
   "outputs": [
    {
     "name": "stdout",
     "output_type": "stream",
     "text": [
      "16185/16185 [==============================] - 26s 2ms/step - loss: 0.0058 - accuracy: 0.9979\n",
      "16185/16185 [==============================] - 15s 935us/step\n",
      "Inference time: 19.50 seconds\n",
      "Completed\n",
      "Time taken: 0:00:46.069103\n",
      "Validation score: 0.9978672426942645\n",
      "Evaluation score: [0.01065889559686184, 0.9978672191619873]\n",
      "Recall score: 0.9978672426942645\n",
      "Precision score: 0.9978150896959275\n",
      "F1 Measure score: 0.9977643548514277\n",
      "ROC-AUC score: 0.9535105658894828\n"
     ]
    }
   ],
   "source": [
    "import datetime as dt\n",
    "from sklearn.metrics import accuracy_score, confusion_matrix, precision_score, recall_score, f1_score, roc_auc_score\n",
    "from sklearn import preprocessing\n",
    "import time\n",
    "\n",
    "start = dt.datetime.now()\n",
    "\n",
    "escore = model.evaluate(X_test, Y_test, batch_size=32)\n",
    "\n",
    "# Measure inference time\n",
    "start_time = time.time()\n",
    "pred = model.predict(X_test)\n",
    "end_time = time.time()\n",
    "\n",
    "inference_time = end_time - start_time\n",
    "print(\"Inference time: {:.2f} seconds\".format(inference_time))\n",
    "\n",
    "pred = np.argmax(pred,axis=1)\n",
    "y_eval = np.argmax(Y_test,axis=1)\n",
    "\n",
    "score = metrics.accuracy_score(y_eval, pred)\n",
    "rscore = recall_score(y_eval, pred, average='weighted')\n",
    "ascore = precision_score(y_eval, pred, average='weighted')\n",
    "f1score= f1_score(y_eval, pred, average='weighted') #F1 = 2 * (precision * recall) / (precision + recall) for manual\n",
    "\n",
    "lb = preprocessing.LabelBinarizer()\n",
    "lb.fit(y_eval)\n",
    "y_eval = lb.transform(y_eval)\n",
    "pred = lb.transform(pred)\n",
    "roc_score = roc_auc_score(y_eval, pred)\n",
    "#roc_auc_socre = multiclass_roc_auc_score(y_eval, pred)\n",
    "\n",
    "print('Completed')\n",
    "print('Time taken:',dt.datetime.now()-start)\n",
    "\n",
    "print(\"Validation score: {}\".format(score))\n",
    "print(\"Evaluation score: {}\".format(escore))\n",
    "print(\"Recall score: {}\".format(rscore))\n",
    "print(\"Precision score: {}\".format(ascore))\n",
    "print(\"F1 Measure score: {}\".format(f1score))\n",
    "print(\"ROC-AUC score: {}\".format(roc_score))"
   ]
  },
  {
   "cell_type": "code",
   "execution_count": 34,
   "id": "942cf6a5",
   "metadata": {},
   "outputs": [],
   "source": [
    "# Plot for training and validation loss\n",
    "history_dict = history.history\n",
    "loss_values = history_dict['loss']\n",
    "val_loss_values = history_dict['val_loss']\n",
    "acc = history_dict['accuracy']\n",
    "val_acc = history_dict['val_accuracy']"
   ]
  },
  {
   "cell_type": "code",
   "execution_count": 35,
   "id": "f35af36d",
   "metadata": {},
   "outputs": [
    {
     "name": "stdout",
     "output_type": "stream",
     "text": [
      "16185/16185 [==============================] - 15s 933us/step\n"
     ]
    }
   ],
   "source": [
    "pred = model.predict(X_test)\n",
    "pred = np.argmax(pred,axis=1)\n",
    "y_test = Y_test.argmax(axis=1)"
   ]
  },
  {
   "cell_type": "code",
   "execution_count": 36,
   "id": "29908eb2",
   "metadata": {},
   "outputs": [
    {
     "data": {
      "text/plain": [
       "(517915,)"
      ]
     },
     "execution_count": 36,
     "metadata": {},
     "output_type": "execute_result"
    }
   ],
   "source": [
    "pred.shape\n",
    "y_test.shape"
   ]
  },
  {
   "cell_type": "code",
   "execution_count": 37,
   "id": "b951e16b",
   "metadata": {},
   "outputs": [
    {
     "data": {
      "text/plain": [
       "array([[ 15195,   1923],\n",
       "       [   321, 500476]], dtype=int64)"
      ]
     },
     "execution_count": 37,
     "metadata": {},
     "output_type": "execute_result"
    }
   ],
   "source": [
    "from sklearn.metrics import confusion_matrix, precision_score, recall_score\n",
    "import seaborn as sn\n",
    "\n",
    "confMat = confusion_matrix(y_test, pred)\n",
    "confMat"
   ]
  },
  {
   "cell_type": "code",
   "execution_count": null,
   "id": "9cc54e77",
   "metadata": {},
   "outputs": [],
   "source": [
    "cf_matrix = confusion_matrix(y_test, pred)\n",
    "labels = ['Benign','Attack']\n",
    "sn.heatmap(cf_matrix / np.sum(cf_matrix), annot=True, fmt='.2%', xticklabels=labels, yticklabels=labels, cmap='Blues')"
   ]
  },
  {
   "cell_type": "code",
   "execution_count": null,
   "id": "14bc213e",
   "metadata": {},
   "outputs": [],
   "source": [
    "cf_matrix = confusion_matrix(y_test, pred)\n",
    "cm_df = pd.DataFrame(cf_matrix)\n",
    "\n",
    "labels = ['Benign','Attack']\n",
    "\n",
    "plt.figure(figsize=(20,15))\n",
    "sn.set(font_scale=1.4)\n",
    "sn.heatmap(cm_df, annot=True, annot_kws={\"size\":12}, fmt='g', xticklabels=labels, yticklabels=labels, cmap='Blues')\n",
    "\n",
    "#sn.heatmap(cm_df, annot=True, annot_kws={\"size\":12}, fmt='g', xticklabels=labels, yticklabels=labels)\n",
    "plt.ylabel('Actual Class')\n",
    "plt.xlabel('Predicted Class')\n",
    "    \n",
    "plt.show() "
   ]
  },
  {
   "cell_type": "code",
   "execution_count": 49,
   "id": "3b41e9d9",
   "metadata": {},
   "outputs": [],
   "source": [
    "start_by_epoch = 1\n",
    "epochs = range(start_by_epoch, len(loss_values) + 1)"
   ]
  },
  {
   "cell_type": "code",
   "execution_count": null,
   "id": "58b6beee",
   "metadata": {},
   "outputs": [],
   "source": [
    "plt.plot(epochs, acc[start_by_epoch-1:], label='Training accuracy')\n",
    "plt.plot(epochs, val_acc[start_by_epoch-1:], label='Validation accuracy')\n",
    "plt.title('CNN: Training and validation accuracy')\n",
    "plt.xlabel('Epochs')\n",
    "plt.ylabel('Accuracy')\n",
    "plt.legend(['Training', 'Test'], loc='lower right')\n",
    "\n",
    "plt.show()\n",
    "plt.clf()"
   ]
  },
  {
   "cell_type": "code",
   "execution_count": null,
   "id": "a5133265",
   "metadata": {},
   "outputs": [],
   "source": [
    "#plt.subplot(212)\n",
    "\n",
    "plt.plot(epochs, loss_values[start_by_epoch-1:], label='Training Loss')\n",
    "plt.plot(epochs, val_loss_values[start_by_epoch-1:], label='Validation Loss')\n",
    "plt.title('CNN: Training and validation loss')\n",
    "plt.xlabel('Epochs')\n",
    "plt.ylabel('Loss')\n",
    "plt.legend(['Training', 'Validation'], loc='upper right')\n",
    "\n",
    "plt.tight_layout()\n",
    "\n",
    "plt.show()\n",
    "plt.clf()"
   ]
  },
  {
   "cell_type": "code",
   "execution_count": null,
   "id": "3f6d912b",
   "metadata": {},
   "outputs": [],
   "source": [
    "pd.DataFrame(history.history).plot(figsize=(8,5))\n",
    "plt.grid(True)\n",
    "plt.gca().set_ylim(0,1)\n",
    "plt.title('CNN: Training and Validation Rate')\n",
    "plt.xlabel('Epochs')\n",
    "plt.ylabel('Score')\n",
    "plt.show()"
   ]
  },
  {
   "cell_type": "code",
   "execution_count": 54,
   "id": "4f5d9778",
   "metadata": {},
   "outputs": [
    {
     "name": "stdout",
     "output_type": "stream",
     "text": [
      "Precision:  0.9975250877160867\n",
      "Recall:  0.9975073129760675\n",
      "F-Measure:  0.997514892905715\n"
     ]
    }
   ],
   "source": [
    "print(\"Precision: \", precision_score(y_test, pred, average='weighted'))\n",
    "print(\"Recall: \", recall_score(y_test, pred, average='weighted'))\n",
    "print(\"F-Measure: \", f1_score(y_test, pred, average='weighted'))"
   ]
  },
  {
   "cell_type": "code",
   "execution_count": null,
   "id": "2026bd5b",
   "metadata": {},
   "outputs": [],
   "source": []
  }
 ],
 "metadata": {
  "kernelspec": {
   "display_name": "Python 3 (ipykernel)",
   "language": "python",
   "name": "python3"
  },
  "language_info": {
   "codemirror_mode": {
    "name": "ipython",
    "version": 3
   },
   "file_extension": ".py",
   "mimetype": "text/x-python",
   "name": "python",
   "nbconvert_exporter": "python",
   "pygments_lexer": "ipython3",
   "version": "3.9.12"
  }
 },
 "nbformat": 4,
 "nbformat_minor": 5
}
